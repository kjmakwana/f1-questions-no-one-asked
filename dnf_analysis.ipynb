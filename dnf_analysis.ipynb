{
  "cells": [
    {
      "cell_type": "code",
      "execution_count": 2,
      "metadata": {
        "id": "D4R_YPkbeU_j"
      },
      "outputs": [],
      "source": [
        "import pandas as pd\n",
        "import numpy as np\n",
        "import plotly.express as px\n",
        "from powerbiclient import Report, models, authentication\n",
        "from powerbiclient.authentication import InteractiveLoginAuthentication\n",
        "#from dash import Dash,html,dcc,dash_table\n",
        "#from jupyter_dash import JupyterDash"
      ]
    },
    {
      "cell_type": "code",
      "execution_count": 3,
      "metadata": {
        "id": "Z3a2LYRcdWLq"
      },
      "outputs": [],
      "source": [
        "filepath='data/'"
      ]
    },
    {
      "cell_type": "code",
      "execution_count": 4,
      "metadata": {
        "id": "K2nYK0iYdsgo"
      },
      "outputs": [],
      "source": [
        "circuits=pd.read_csv(filepath+'circuits.csv')"
      ]
    },
    {
      "cell_type": "code",
      "execution_count": 5,
      "metadata": {
        "colab": {
          "base_uri": "https://localhost:8080/",
          "height": 206
        },
        "id": "H4VeC1wmeT-v",
        "outputId": "0eb7ccf7-275f-4ff2-9bbf-c03c9d364c62"
      },
      "outputs": [
        {
          "data": {
            "text/html": [
              "<div>\n",
              "<style scoped>\n",
              "    .dataframe tbody tr th:only-of-type {\n",
              "        vertical-align: middle;\n",
              "    }\n",
              "\n",
              "    .dataframe tbody tr th {\n",
              "        vertical-align: top;\n",
              "    }\n",
              "\n",
              "    .dataframe thead th {\n",
              "        text-align: right;\n",
              "    }\n",
              "</style>\n",
              "<table border=\"1\" class=\"dataframe\">\n",
              "  <thead>\n",
              "    <tr style=\"text-align: right;\">\n",
              "      <th></th>\n",
              "      <th>circuitId</th>\n",
              "      <th>circuitRef</th>\n",
              "      <th>name</th>\n",
              "      <th>location</th>\n",
              "      <th>country</th>\n",
              "      <th>lat</th>\n",
              "      <th>lng</th>\n",
              "      <th>alt</th>\n",
              "      <th>url</th>\n",
              "    </tr>\n",
              "  </thead>\n",
              "  <tbody>\n",
              "    <tr>\n",
              "      <th>0</th>\n",
              "      <td>1</td>\n",
              "      <td>albert_park</td>\n",
              "      <td>Albert Park Grand Prix Circuit</td>\n",
              "      <td>Melbourne</td>\n",
              "      <td>Australia</td>\n",
              "      <td>-37.84970</td>\n",
              "      <td>144.96800</td>\n",
              "      <td>10</td>\n",
              "      <td>http://en.wikipedia.org/wiki/Melbourne_Grand_P...</td>\n",
              "    </tr>\n",
              "    <tr>\n",
              "      <th>1</th>\n",
              "      <td>2</td>\n",
              "      <td>sepang</td>\n",
              "      <td>Sepang International Circuit</td>\n",
              "      <td>Kuala Lumpur</td>\n",
              "      <td>Malaysia</td>\n",
              "      <td>2.76083</td>\n",
              "      <td>101.73800</td>\n",
              "      <td>18</td>\n",
              "      <td>http://en.wikipedia.org/wiki/Sepang_Internatio...</td>\n",
              "    </tr>\n",
              "    <tr>\n",
              "      <th>2</th>\n",
              "      <td>3</td>\n",
              "      <td>bahrain</td>\n",
              "      <td>Bahrain International Circuit</td>\n",
              "      <td>Sakhir</td>\n",
              "      <td>Bahrain</td>\n",
              "      <td>26.03250</td>\n",
              "      <td>50.51060</td>\n",
              "      <td>7</td>\n",
              "      <td>http://en.wikipedia.org/wiki/Bahrain_Internati...</td>\n",
              "    </tr>\n",
              "    <tr>\n",
              "      <th>3</th>\n",
              "      <td>4</td>\n",
              "      <td>catalunya</td>\n",
              "      <td>Circuit de Barcelona-Catalunya</td>\n",
              "      <td>Montmeló</td>\n",
              "      <td>Spain</td>\n",
              "      <td>41.57000</td>\n",
              "      <td>2.26111</td>\n",
              "      <td>109</td>\n",
              "      <td>http://en.wikipedia.org/wiki/Circuit_de_Barcel...</td>\n",
              "    </tr>\n",
              "    <tr>\n",
              "      <th>4</th>\n",
              "      <td>5</td>\n",
              "      <td>istanbul</td>\n",
              "      <td>Istanbul Park</td>\n",
              "      <td>Istanbul</td>\n",
              "      <td>Turkey</td>\n",
              "      <td>40.95170</td>\n",
              "      <td>29.40500</td>\n",
              "      <td>130</td>\n",
              "      <td>http://en.wikipedia.org/wiki/Istanbul_Park</td>\n",
              "    </tr>\n",
              "  </tbody>\n",
              "</table>\n",
              "</div>"
            ],
            "text/plain": [
              "   circuitId   circuitRef                            name      location  \\\n",
              "0          1  albert_park  Albert Park Grand Prix Circuit     Melbourne   \n",
              "1          2       sepang    Sepang International Circuit  Kuala Lumpur   \n",
              "2          3      bahrain   Bahrain International Circuit        Sakhir   \n",
              "3          4    catalunya  Circuit de Barcelona-Catalunya      Montmeló   \n",
              "4          5     istanbul                   Istanbul Park      Istanbul   \n",
              "\n",
              "     country       lat        lng  alt  \\\n",
              "0  Australia -37.84970  144.96800   10   \n",
              "1   Malaysia   2.76083  101.73800   18   \n",
              "2    Bahrain  26.03250   50.51060    7   \n",
              "3      Spain  41.57000    2.26111  109   \n",
              "4     Turkey  40.95170   29.40500  130   \n",
              "\n",
              "                                                 url  \n",
              "0  http://en.wikipedia.org/wiki/Melbourne_Grand_P...  \n",
              "1  http://en.wikipedia.org/wiki/Sepang_Internatio...  \n",
              "2  http://en.wikipedia.org/wiki/Bahrain_Internati...  \n",
              "3  http://en.wikipedia.org/wiki/Circuit_de_Barcel...  \n",
              "4         http://en.wikipedia.org/wiki/Istanbul_Park  "
            ]
          },
          "execution_count": 5,
          "metadata": {},
          "output_type": "execute_result"
        }
      ],
      "source": [
        "circuits.head()"
      ]
    },
    {
      "cell_type": "code",
      "execution_count": 6,
      "metadata": {
        "id": "JdaW8kbjelt2"
      },
      "outputs": [],
      "source": [
        "countries_with_most_ckts=circuits.groupby('country').count().rename(columns={'circuitId':'count'})[['count']].sort_values(by='count',ascending=False).head(n=10).reset_index()"
      ]
    },
    {
      "cell_type": "code",
      "execution_count": 7,
      "metadata": {
        "colab": {
          "base_uri": "https://localhost:8080/",
          "height": 363
        },
        "id": "RyguAp92fvGt",
        "outputId": "eff68c28-666f-435e-c929-5ba936225d08"
      },
      "outputs": [
        {
          "data": {
            "text/html": [
              "<div>\n",
              "<style scoped>\n",
              "    .dataframe tbody tr th:only-of-type {\n",
              "        vertical-align: middle;\n",
              "    }\n",
              "\n",
              "    .dataframe tbody tr th {\n",
              "        vertical-align: top;\n",
              "    }\n",
              "\n",
              "    .dataframe thead th {\n",
              "        text-align: right;\n",
              "    }\n",
              "</style>\n",
              "<table border=\"1\" class=\"dataframe\">\n",
              "  <thead>\n",
              "    <tr style=\"text-align: right;\">\n",
              "      <th></th>\n",
              "      <th>country</th>\n",
              "      <th>count</th>\n",
              "    </tr>\n",
              "  </thead>\n",
              "  <tbody>\n",
              "    <tr>\n",
              "      <th>0</th>\n",
              "      <td>USA</td>\n",
              "      <td>11</td>\n",
              "    </tr>\n",
              "    <tr>\n",
              "      <th>1</th>\n",
              "      <td>France</td>\n",
              "      <td>7</td>\n",
              "    </tr>\n",
              "    <tr>\n",
              "      <th>2</th>\n",
              "      <td>Spain</td>\n",
              "      <td>6</td>\n",
              "    </tr>\n",
              "    <tr>\n",
              "      <th>3</th>\n",
              "      <td>Portugal</td>\n",
              "      <td>4</td>\n",
              "    </tr>\n",
              "    <tr>\n",
              "      <th>4</th>\n",
              "      <td>UK</td>\n",
              "      <td>4</td>\n",
              "    </tr>\n",
              "    <tr>\n",
              "      <th>5</th>\n",
              "      <td>Italy</td>\n",
              "      <td>4</td>\n",
              "    </tr>\n",
              "    <tr>\n",
              "      <th>6</th>\n",
              "      <td>Belgium</td>\n",
              "      <td>3</td>\n",
              "    </tr>\n",
              "    <tr>\n",
              "      <th>7</th>\n",
              "      <td>Canada</td>\n",
              "      <td>3</td>\n",
              "    </tr>\n",
              "    <tr>\n",
              "      <th>8</th>\n",
              "      <td>Germany</td>\n",
              "      <td>3</td>\n",
              "    </tr>\n",
              "    <tr>\n",
              "      <th>9</th>\n",
              "      <td>Japan</td>\n",
              "      <td>3</td>\n",
              "    </tr>\n",
              "  </tbody>\n",
              "</table>\n",
              "</div>"
            ],
            "text/plain": [
              "    country  count\n",
              "0       USA     11\n",
              "1    France      7\n",
              "2     Spain      6\n",
              "3  Portugal      4\n",
              "4        UK      4\n",
              "5     Italy      4\n",
              "6   Belgium      3\n",
              "7    Canada      3\n",
              "8   Germany      3\n",
              "9     Japan      3"
            ]
          },
          "execution_count": 7,
          "metadata": {},
          "output_type": "execute_result"
        }
      ],
      "source": [
        "countries_with_most_ckts"
      ]
    },
    {
      "cell_type": "code",
      "execution_count": 8,
      "metadata": {
        "id": "_RzwZdqVg7lA"
      },
      "outputs": [],
      "source": [
        "races=pd.read_csv(filepath+'races.csv')"
      ]
    },
    {
      "cell_type": "code",
      "execution_count": 9,
      "metadata": {
        "colab": {
          "base_uri": "https://localhost:8080/",
          "height": 443
        },
        "id": "fkTBQrXwhqF6",
        "outputId": "204d2e5a-d0bf-4077-8376-043ac07aadf6"
      },
      "outputs": [
        {
          "data": {
            "text/html": [
              "<div>\n",
              "<style scoped>\n",
              "    .dataframe tbody tr th:only-of-type {\n",
              "        vertical-align: middle;\n",
              "    }\n",
              "\n",
              "    .dataframe tbody tr th {\n",
              "        vertical-align: top;\n",
              "    }\n",
              "\n",
              "    .dataframe thead th {\n",
              "        text-align: right;\n",
              "    }\n",
              "</style>\n",
              "<table border=\"1\" class=\"dataframe\">\n",
              "  <thead>\n",
              "    <tr style=\"text-align: right;\">\n",
              "      <th></th>\n",
              "      <th>raceId</th>\n",
              "      <th>year</th>\n",
              "      <th>round</th>\n",
              "      <th>circuitId</th>\n",
              "      <th>name</th>\n",
              "      <th>date</th>\n",
              "      <th>time</th>\n",
              "      <th>url</th>\n",
              "      <th>fp1_date</th>\n",
              "      <th>fp1_time</th>\n",
              "      <th>fp2_date</th>\n",
              "      <th>fp2_time</th>\n",
              "      <th>fp3_date</th>\n",
              "      <th>fp3_time</th>\n",
              "      <th>quali_date</th>\n",
              "      <th>quali_time</th>\n",
              "      <th>sprint_date</th>\n",
              "      <th>sprint_time</th>\n",
              "    </tr>\n",
              "  </thead>\n",
              "  <tbody>\n",
              "    <tr>\n",
              "      <th>0</th>\n",
              "      <td>1</td>\n",
              "      <td>2009</td>\n",
              "      <td>1</td>\n",
              "      <td>1</td>\n",
              "      <td>Australian Grand Prix</td>\n",
              "      <td>2009-03-29</td>\n",
              "      <td>06:00:00</td>\n",
              "      <td>http://en.wikipedia.org/wiki/2009_Australian_G...</td>\n",
              "      <td>\\N</td>\n",
              "      <td>\\N</td>\n",
              "      <td>\\N</td>\n",
              "      <td>\\N</td>\n",
              "      <td>\\N</td>\n",
              "      <td>\\N</td>\n",
              "      <td>\\N</td>\n",
              "      <td>\\N</td>\n",
              "      <td>\\N</td>\n",
              "      <td>\\N</td>\n",
              "    </tr>\n",
              "    <tr>\n",
              "      <th>1</th>\n",
              "      <td>2</td>\n",
              "      <td>2009</td>\n",
              "      <td>2</td>\n",
              "      <td>2</td>\n",
              "      <td>Malaysian Grand Prix</td>\n",
              "      <td>2009-04-05</td>\n",
              "      <td>09:00:00</td>\n",
              "      <td>http://en.wikipedia.org/wiki/2009_Malaysian_Gr...</td>\n",
              "      <td>\\N</td>\n",
              "      <td>\\N</td>\n",
              "      <td>\\N</td>\n",
              "      <td>\\N</td>\n",
              "      <td>\\N</td>\n",
              "      <td>\\N</td>\n",
              "      <td>\\N</td>\n",
              "      <td>\\N</td>\n",
              "      <td>\\N</td>\n",
              "      <td>\\N</td>\n",
              "    </tr>\n",
              "    <tr>\n",
              "      <th>2</th>\n",
              "      <td>3</td>\n",
              "      <td>2009</td>\n",
              "      <td>3</td>\n",
              "      <td>17</td>\n",
              "      <td>Chinese Grand Prix</td>\n",
              "      <td>2009-04-19</td>\n",
              "      <td>07:00:00</td>\n",
              "      <td>http://en.wikipedia.org/wiki/2009_Chinese_Gran...</td>\n",
              "      <td>\\N</td>\n",
              "      <td>\\N</td>\n",
              "      <td>\\N</td>\n",
              "      <td>\\N</td>\n",
              "      <td>\\N</td>\n",
              "      <td>\\N</td>\n",
              "      <td>\\N</td>\n",
              "      <td>\\N</td>\n",
              "      <td>\\N</td>\n",
              "      <td>\\N</td>\n",
              "    </tr>\n",
              "    <tr>\n",
              "      <th>3</th>\n",
              "      <td>4</td>\n",
              "      <td>2009</td>\n",
              "      <td>4</td>\n",
              "      <td>3</td>\n",
              "      <td>Bahrain Grand Prix</td>\n",
              "      <td>2009-04-26</td>\n",
              "      <td>12:00:00</td>\n",
              "      <td>http://en.wikipedia.org/wiki/2009_Bahrain_Gran...</td>\n",
              "      <td>\\N</td>\n",
              "      <td>\\N</td>\n",
              "      <td>\\N</td>\n",
              "      <td>\\N</td>\n",
              "      <td>\\N</td>\n",
              "      <td>\\N</td>\n",
              "      <td>\\N</td>\n",
              "      <td>\\N</td>\n",
              "      <td>\\N</td>\n",
              "      <td>\\N</td>\n",
              "    </tr>\n",
              "    <tr>\n",
              "      <th>4</th>\n",
              "      <td>5</td>\n",
              "      <td>2009</td>\n",
              "      <td>5</td>\n",
              "      <td>4</td>\n",
              "      <td>Spanish Grand Prix</td>\n",
              "      <td>2009-05-10</td>\n",
              "      <td>12:00:00</td>\n",
              "      <td>http://en.wikipedia.org/wiki/2009_Spanish_Gran...</td>\n",
              "      <td>\\N</td>\n",
              "      <td>\\N</td>\n",
              "      <td>\\N</td>\n",
              "      <td>\\N</td>\n",
              "      <td>\\N</td>\n",
              "      <td>\\N</td>\n",
              "      <td>\\N</td>\n",
              "      <td>\\N</td>\n",
              "      <td>\\N</td>\n",
              "      <td>\\N</td>\n",
              "    </tr>\n",
              "  </tbody>\n",
              "</table>\n",
              "</div>"
            ],
            "text/plain": [
              "   raceId  year  round  circuitId                   name        date  \\\n",
              "0       1  2009      1          1  Australian Grand Prix  2009-03-29   \n",
              "1       2  2009      2          2   Malaysian Grand Prix  2009-04-05   \n",
              "2       3  2009      3         17     Chinese Grand Prix  2009-04-19   \n",
              "3       4  2009      4          3     Bahrain Grand Prix  2009-04-26   \n",
              "4       5  2009      5          4     Spanish Grand Prix  2009-05-10   \n",
              "\n",
              "       time                                                url fp1_date  \\\n",
              "0  06:00:00  http://en.wikipedia.org/wiki/2009_Australian_G...       \\N   \n",
              "1  09:00:00  http://en.wikipedia.org/wiki/2009_Malaysian_Gr...       \\N   \n",
              "2  07:00:00  http://en.wikipedia.org/wiki/2009_Chinese_Gran...       \\N   \n",
              "3  12:00:00  http://en.wikipedia.org/wiki/2009_Bahrain_Gran...       \\N   \n",
              "4  12:00:00  http://en.wikipedia.org/wiki/2009_Spanish_Gran...       \\N   \n",
              "\n",
              "  fp1_time fp2_date fp2_time fp3_date fp3_time quali_date quali_time  \\\n",
              "0       \\N       \\N       \\N       \\N       \\N         \\N         \\N   \n",
              "1       \\N       \\N       \\N       \\N       \\N         \\N         \\N   \n",
              "2       \\N       \\N       \\N       \\N       \\N         \\N         \\N   \n",
              "3       \\N       \\N       \\N       \\N       \\N         \\N         \\N   \n",
              "4       \\N       \\N       \\N       \\N       \\N         \\N         \\N   \n",
              "\n",
              "  sprint_date sprint_time  \n",
              "0          \\N          \\N  \n",
              "1          \\N          \\N  \n",
              "2          \\N          \\N  \n",
              "3          \\N          \\N  \n",
              "4          \\N          \\N  "
            ]
          },
          "execution_count": 9,
          "metadata": {},
          "output_type": "execute_result"
        }
      ],
      "source": [
        "races.head()"
      ]
    },
    {
      "cell_type": "code",
      "execution_count": 10,
      "metadata": {
        "id": "0Dgd1JSM3cFk"
      },
      "outputs": [],
      "source": [
        "races['year']=pd.to_datetime(races['date']).apply(lambda x: x.year)"
      ]
    },
    {
      "cell_type": "code",
      "execution_count": 11,
      "metadata": {
        "colab": {
          "base_uri": "https://localhost:8080/"
        },
        "id": "8ryQ0fCzhtR4",
        "outputId": "c45b2c76-0db3-4c66-f4a0-2c64cc0c20d4"
      },
      "outputs": [
        {
          "data": {
            "text/plain": [
              "count    1102.000000\n",
              "mean     1992.049002\n",
              "std        20.308639\n",
              "min      1950.000000\n",
              "25%      1976.000000\n",
              "50%      1994.000000\n",
              "75%      2010.000000\n",
              "max      2023.000000\n",
              "Name: year, dtype: float64"
            ]
          },
          "execution_count": 11,
          "metadata": {},
          "output_type": "execute_result"
        }
      ],
      "source": [
        "races.year.describe()"
      ]
    },
    {
      "cell_type": "code",
      "execution_count": 12,
      "metadata": {
        "id": "n4545c68hzHp"
      },
      "outputs": [],
      "source": [
        "countries_with_most_races=races.groupby('circuitId').count().rename(columns={'year':'count'})[['count']].sort_values(by='count',ascending=False).reset_index().merge(circuits[['name','lat','lng','country','circuitId']],on='circuitId')"
      ]
    },
    {
      "cell_type": "code",
      "execution_count": 13,
      "metadata": {
        "colab": {
          "base_uri": "https://localhost:8080/",
          "height": 423
        },
        "id": "PceLJPP6iNlj",
        "outputId": "6a68ce2a-de88-4107-a985-7f31d496d01d"
      },
      "outputs": [
        {
          "data": {
            "text/html": [
              "<div>\n",
              "<style scoped>\n",
              "    .dataframe tbody tr th:only-of-type {\n",
              "        vertical-align: middle;\n",
              "    }\n",
              "\n",
              "    .dataframe tbody tr th {\n",
              "        vertical-align: top;\n",
              "    }\n",
              "\n",
              "    .dataframe thead th {\n",
              "        text-align: right;\n",
              "    }\n",
              "</style>\n",
              "<table border=\"1\" class=\"dataframe\">\n",
              "  <thead>\n",
              "    <tr style=\"text-align: right;\">\n",
              "      <th></th>\n",
              "      <th>circuitId</th>\n",
              "      <th>count</th>\n",
              "      <th>name</th>\n",
              "      <th>lat</th>\n",
              "      <th>lng</th>\n",
              "      <th>country</th>\n",
              "    </tr>\n",
              "  </thead>\n",
              "  <tbody>\n",
              "    <tr>\n",
              "      <th>0</th>\n",
              "      <td>14</td>\n",
              "      <td>73</td>\n",
              "      <td>Autodromo Nazionale di Monza</td>\n",
              "      <td>45.6156</td>\n",
              "      <td>9.281110</td>\n",
              "      <td>Italy</td>\n",
              "    </tr>\n",
              "    <tr>\n",
              "      <th>1</th>\n",
              "      <td>6</td>\n",
              "      <td>69</td>\n",
              "      <td>Circuit de Monaco</td>\n",
              "      <td>43.7347</td>\n",
              "      <td>7.420560</td>\n",
              "      <td>Monaco</td>\n",
              "    </tr>\n",
              "    <tr>\n",
              "      <th>2</th>\n",
              "      <td>9</td>\n",
              "      <td>58</td>\n",
              "      <td>Silverstone Circuit</td>\n",
              "      <td>52.0786</td>\n",
              "      <td>-1.016940</td>\n",
              "      <td>UK</td>\n",
              "    </tr>\n",
              "    <tr>\n",
              "      <th>3</th>\n",
              "      <td>13</td>\n",
              "      <td>56</td>\n",
              "      <td>Circuit de Spa-Francorchamps</td>\n",
              "      <td>50.4372</td>\n",
              "      <td>5.971390</td>\n",
              "      <td>Belgium</td>\n",
              "    </tr>\n",
              "    <tr>\n",
              "      <th>4</th>\n",
              "      <td>7</td>\n",
              "      <td>42</td>\n",
              "      <td>Circuit Gilles Villeneuve</td>\n",
              "      <td>45.5000</td>\n",
              "      <td>-73.522800</td>\n",
              "      <td>Canada</td>\n",
              "    </tr>\n",
              "    <tr>\n",
              "      <th>...</th>\n",
              "      <td>...</td>\n",
              "      <td>...</td>\n",
              "      <td>...</td>\n",
              "      <td>...</td>\n",
              "      <td>...</td>\n",
              "      <td>...</td>\n",
              "    </tr>\n",
              "    <tr>\n",
              "      <th>72</th>\n",
              "      <td>60</td>\n",
              "      <td>1</td>\n",
              "      <td>Riverside International Raceway</td>\n",
              "      <td>33.9370</td>\n",
              "      <td>-117.273000</td>\n",
              "      <td>USA</td>\n",
              "    </tr>\n",
              "    <tr>\n",
              "      <th>73</th>\n",
              "      <td>54</td>\n",
              "      <td>1</td>\n",
              "      <td>Le Mans</td>\n",
              "      <td>47.9500</td>\n",
              "      <td>0.224231</td>\n",
              "      <td>France</td>\n",
              "    </tr>\n",
              "    <tr>\n",
              "      <th>74</th>\n",
              "      <td>42</td>\n",
              "      <td>1</td>\n",
              "      <td>Fair Park</td>\n",
              "      <td>32.7774</td>\n",
              "      <td>-96.758700</td>\n",
              "      <td>USA</td>\n",
              "    </tr>\n",
              "    <tr>\n",
              "      <th>75</th>\n",
              "      <td>31</td>\n",
              "      <td>1</td>\n",
              "      <td>Donington Park</td>\n",
              "      <td>52.8306</td>\n",
              "      <td>-1.375280</td>\n",
              "      <td>UK</td>\n",
              "    </tr>\n",
              "    <tr>\n",
              "      <th>76</th>\n",
              "      <td>80</td>\n",
              "      <td>1</td>\n",
              "      <td>Las Vegas Strip Street Circuit</td>\n",
              "      <td>36.1147</td>\n",
              "      <td>-115.173000</td>\n",
              "      <td>United States</td>\n",
              "    </tr>\n",
              "  </tbody>\n",
              "</table>\n",
              "<p>77 rows × 6 columns</p>\n",
              "</div>"
            ],
            "text/plain": [
              "    circuitId  count                             name      lat         lng  \\\n",
              "0          14     73     Autodromo Nazionale di Monza  45.6156    9.281110   \n",
              "1           6     69                Circuit de Monaco  43.7347    7.420560   \n",
              "2           9     58              Silverstone Circuit  52.0786   -1.016940   \n",
              "3          13     56     Circuit de Spa-Francorchamps  50.4372    5.971390   \n",
              "4           7     42        Circuit Gilles Villeneuve  45.5000  -73.522800   \n",
              "..        ...    ...                              ...      ...         ...   \n",
              "72         60      1  Riverside International Raceway  33.9370 -117.273000   \n",
              "73         54      1                          Le Mans  47.9500    0.224231   \n",
              "74         42      1                        Fair Park  32.7774  -96.758700   \n",
              "75         31      1                   Donington Park  52.8306   -1.375280   \n",
              "76         80      1   Las Vegas Strip Street Circuit  36.1147 -115.173000   \n",
              "\n",
              "          country  \n",
              "0           Italy  \n",
              "1          Monaco  \n",
              "2              UK  \n",
              "3         Belgium  \n",
              "4          Canada  \n",
              "..            ...  \n",
              "72            USA  \n",
              "73         France  \n",
              "74            USA  \n",
              "75             UK  \n",
              "76  United States  \n",
              "\n",
              "[77 rows x 6 columns]"
            ]
          },
          "execution_count": 13,
          "metadata": {},
          "output_type": "execute_result"
        }
      ],
      "source": [
        "countries_with_most_races"
      ]
    },
    {
      "cell_type": "code",
      "execution_count": 14,
      "metadata": {
        "colab": {
          "base_uri": "https://localhost:8080/",
          "height": 542
        },
        "id": "K2Eqrm9zsPxS",
        "outputId": "06a10d9c-d682-44f7-d692-1b2977bfb9fc"
      },
      "outputs": [
        {
          "data": {
            "application/vnd.plotly.v1+json": {
              "config": {
                "plotlyServerURL": "https://plot.ly"
              },
              "data": [
                {
                  "geo": "geo",
                  "hovertemplate": "<b>%{hovertext}</b><br><br>country=Italy<br>count=%{marker.size}<br>lat=%{lat}<br>lng=%{lon}<extra></extra>",
                  "hovertext": [
                    "Autodromo Nazionale di Monza",
                    "Autodromo Enzo e Dino Ferrari",
                    "Autodromo Internazionale del Mugello",
                    "Pescara Circuit"
                  ],
                  "lat": [
                    45.6156,
                    44.3439,
                    43.9975,
                    42.475
                  ],
                  "legendgroup": "Italy",
                  "lon": [
                    9.28111,
                    11.7167,
                    11.3719,
                    14.1508
                  ],
                  "marker": {
                    "color": "#636efa",
                    "size": [
                      73,
                      31,
                      1,
                      1
                    ],
                    "sizemode": "area",
                    "sizeref": 0.1825,
                    "symbol": "circle"
                  },
                  "mode": "markers",
                  "name": "Italy",
                  "showlegend": true,
                  "type": "scattergeo"
                },
                {
                  "geo": "geo",
                  "hovertemplate": "<b>%{hovertext}</b><br><br>country=Monaco<br>count=%{marker.size}<br>lat=%{lat}<br>lng=%{lon}<extra></extra>",
                  "hovertext": [
                    "Circuit de Monaco"
                  ],
                  "lat": [
                    43.7347
                  ],
                  "legendgroup": "Monaco",
                  "lon": [
                    7.42056
                  ],
                  "marker": {
                    "color": "#EF553B",
                    "size": [
                      69
                    ],
                    "sizemode": "area",
                    "sizeref": 0.1825,
                    "symbol": "circle"
                  },
                  "mode": "markers",
                  "name": "Monaco",
                  "showlegend": true,
                  "type": "scattergeo"
                },
                {
                  "geo": "geo",
                  "hovertemplate": "<b>%{hovertext}</b><br><br>country=UK<br>count=%{marker.size}<br>lat=%{lat}<br>lng=%{lon}<extra></extra>",
                  "hovertext": [
                    "Silverstone Circuit",
                    "Brands Hatch",
                    "Aintree",
                    "Donington Park"
                  ],
                  "lat": [
                    52.0786,
                    51.3569,
                    53.4769,
                    52.8306
                  ],
                  "legendgroup": "UK",
                  "lon": [
                    -1.01694,
                    0.263056,
                    -2.94056,
                    -1.37528
                  ],
                  "marker": {
                    "color": "#00cc96",
                    "size": [
                      58,
                      14,
                      5,
                      1
                    ],
                    "sizemode": "area",
                    "sizeref": 0.1825,
                    "symbol": "circle"
                  },
                  "mode": "markers",
                  "name": "UK",
                  "showlegend": true,
                  "type": "scattergeo"
                },
                {
                  "geo": "geo",
                  "hovertemplate": "<b>%{hovertext}</b><br><br>country=Belgium<br>count=%{marker.size}<br>lat=%{lat}<br>lng=%{lon}<extra></extra>",
                  "hovertext": [
                    "Circuit de Spa-Francorchamps",
                    "Zolder",
                    "Nivelles-Baulers"
                  ],
                  "lat": [
                    50.4372,
                    50.9894,
                    50.6211
                  ],
                  "legendgroup": "Belgium",
                  "lon": [
                    5.97139,
                    5.25694,
                    4.32694
                  ],
                  "marker": {
                    "color": "#ab63fa",
                    "size": [
                      56,
                      10,
                      2
                    ],
                    "sizemode": "area",
                    "sizeref": 0.1825,
                    "symbol": "circle"
                  },
                  "mode": "markers",
                  "name": "Belgium",
                  "showlegend": true,
                  "type": "scattergeo"
                },
                {
                  "geo": "geo",
                  "hovertemplate": "<b>%{hovertext}</b><br><br>country=Canada<br>count=%{marker.size}<br>lat=%{lat}<br>lng=%{lon}<extra></extra>",
                  "hovertext": [
                    "Circuit Gilles Villeneuve",
                    "Mosport International Raceway",
                    "Circuit Mont-Tremblant"
                  ],
                  "lat": [
                    45.5,
                    44.0481,
                    46.1877
                  ],
                  "legendgroup": "Canada",
                  "lon": [
                    -73.5228,
                    -78.6756,
                    -74.6099
                  ],
                  "marker": {
                    "color": "#FFA15A",
                    "size": [
                      42,
                      8,
                      2
                    ],
                    "sizemode": "area",
                    "sizeref": 0.1825,
                    "symbol": "circle"
                  },
                  "mode": "markers",
                  "name": "Canada",
                  "showlegend": true,
                  "type": "scattergeo"
                },
                {
                  "geo": "geo",
                  "hovertemplate": "<b>%{hovertext}</b><br><br>country=Germany<br>count=%{marker.size}<br>lat=%{lat}<br>lng=%{lon}<extra></extra>",
                  "hovertext": [
                    "Nürburgring",
                    "Hockenheimring",
                    "AVUS"
                  ],
                  "lat": [
                    50.3356,
                    49.3278,
                    52.4806
                  ],
                  "legendgroup": "Germany",
                  "lon": [
                    6.9475,
                    8.56583,
                    13.2514
                  ],
                  "marker": {
                    "color": "#19d3f3",
                    "size": [
                      41,
                      37,
                      1
                    ],
                    "sizemode": "area",
                    "sizeref": 0.1825,
                    "symbol": "circle"
                  },
                  "mode": "markers",
                  "name": "Germany",
                  "showlegend": true,
                  "type": "scattergeo"
                },
                {
                  "geo": "geo",
                  "hovertemplate": "<b>%{hovertext}</b><br><br>country=Brazil<br>count=%{marker.size}<br>lat=%{lat}<br>lng=%{lon}<extra></extra>",
                  "hovertext": [
                    "Autódromo José Carlos Pace",
                    "Autódromo Internacional Nelson Piquet"
                  ],
                  "lat": [
                    -23.7036,
                    -22.9756
                  ],
                  "legendgroup": "Brazil",
                  "lon": [
                    -46.6997,
                    -43.395
                  ],
                  "marker": {
                    "color": "#FF6692",
                    "size": [
                      40,
                      10
                    ],
                    "sizemode": "area",
                    "sizeref": 0.1825,
                    "symbol": "circle"
                  },
                  "mode": "markers",
                  "name": "Brazil",
                  "showlegend": true,
                  "type": "scattergeo"
                },
                {
                  "geo": "geo",
                  "hovertemplate": "<b>%{hovertext}</b><br><br>country=Hungary<br>count=%{marker.size}<br>lat=%{lat}<br>lng=%{lon}<extra></extra>",
                  "hovertext": [
                    "Hungaroring"
                  ],
                  "lat": [
                    47.5789
                  ],
                  "legendgroup": "Hungary",
                  "lon": [
                    19.2486
                  ],
                  "marker": {
                    "color": "#B6E880",
                    "size": [
                      38
                    ],
                    "sizemode": "area",
                    "sizeref": 0.1825,
                    "symbol": "circle"
                  },
                  "mode": "markers",
                  "name": "Hungary",
                  "showlegend": true,
                  "type": "scattergeo"
                },
                {
                  "geo": "geo",
                  "hovertemplate": "<b>%{hovertext}</b><br><br>country=Austria<br>count=%{marker.size}<br>lat=%{lat}<br>lng=%{lon}<extra></extra>",
                  "hovertext": [
                    "Red Bull Ring",
                    "Zeltweg"
                  ],
                  "lat": [
                    47.2197,
                    47.2039
                  ],
                  "legendgroup": "Austria",
                  "lon": [
                    14.7647,
                    14.7478
                  ],
                  "marker": {
                    "color": "#FF97FF",
                    "size": [
                      37,
                      1
                    ],
                    "sizemode": "area",
                    "sizeref": 0.1825,
                    "symbol": "circle"
                  },
                  "mode": "markers",
                  "name": "Austria",
                  "showlegend": true,
                  "type": "scattergeo"
                },
                {
                  "geo": "geo",
                  "hovertemplate": "<b>%{hovertext}</b><br><br>country=Netherlands<br>count=%{marker.size}<br>lat=%{lat}<br>lng=%{lon}<extra></extra>",
                  "hovertext": [
                    "Circuit Park Zandvoort"
                  ],
                  "lat": [
                    52.3888
                  ],
                  "legendgroup": "Netherlands",
                  "lon": [
                    4.54092
                  ],
                  "marker": {
                    "color": "#FECB52",
                    "size": [
                      33
                    ],
                    "sizemode": "area",
                    "sizeref": 0.1825,
                    "symbol": "circle"
                  },
                  "mode": "markers",
                  "name": "Netherlands",
                  "showlegend": true,
                  "type": "scattergeo"
                },
                {
                  "geo": "geo",
                  "hovertemplate": "<b>%{hovertext}</b><br><br>country=Japan<br>count=%{marker.size}<br>lat=%{lat}<br>lng=%{lon}<extra></extra>",
                  "hovertext": [
                    "Suzuka Circuit",
                    "Fuji Speedway",
                    "Okayama International Circuit"
                  ],
                  "lat": [
                    34.8431,
                    35.3717,
                    34.915
                  ],
                  "legendgroup": "Japan",
                  "lon": [
                    136.541,
                    138.927,
                    134.221
                  ],
                  "marker": {
                    "color": "#636efa",
                    "size": [
                      33,
                      4,
                      2
                    ],
                    "sizemode": "area",
                    "sizeref": 0.1825,
                    "symbol": "circle"
                  },
                  "mode": "markers",
                  "name": "Japan",
                  "showlegend": true,
                  "type": "scattergeo"
                },
                {
                  "geo": "geo",
                  "hovertemplate": "<b>%{hovertext}</b><br><br>country=Spain<br>count=%{marker.size}<br>lat=%{lat}<br>lng=%{lon}<extra></extra>",
                  "hovertext": [
                    "Circuit de Barcelona-Catalunya",
                    "Jarama",
                    "Circuito de Jerez",
                    "Valencia Street Circuit",
                    "Montjuïc",
                    "Circuit de Pedralbes"
                  ],
                  "lat": [
                    41.57,
                    40.6171,
                    36.7083,
                    39.4589,
                    41.3664,
                    41.3903
                  ],
                  "legendgroup": "Spain",
                  "lon": [
                    2.26111,
                    -3.58558,
                    -6.03417,
                    -0.331667,
                    2.15167,
                    2.11667
                  ],
                  "marker": {
                    "color": "#EF553B",
                    "size": [
                      33,
                      9,
                      7,
                      5,
                      4,
                      2
                    ],
                    "sizemode": "area",
                    "sizeref": 0.1825,
                    "symbol": "circle"
                  },
                  "mode": "markers",
                  "name": "Spain",
                  "showlegend": true,
                  "type": "scattergeo"
                },
                {
                  "geo": "geo",
                  "hovertemplate": "<b>%{hovertext}</b><br><br>country=Australia<br>count=%{marker.size}<br>lat=%{lat}<br>lng=%{lon}<extra></extra>",
                  "hovertext": [
                    "Albert Park Grand Prix Circuit",
                    "Adelaide Street Circuit"
                  ],
                  "lat": [
                    -37.8497,
                    -34.9272
                  ],
                  "legendgroup": "Australia",
                  "lon": [
                    144.968,
                    138.617
                  ],
                  "marker": {
                    "color": "#00cc96",
                    "size": [
                      26,
                      11
                    ],
                    "sizemode": "area",
                    "sizeref": 0.1825,
                    "symbol": "circle"
                  },
                  "mode": "markers",
                  "name": "Australia",
                  "showlegend": true,
                  "type": "scattergeo"
                },
                {
                  "geo": "geo",
                  "hovertemplate": "<b>%{hovertext}</b><br><br>country=Mexico<br>count=%{marker.size}<br>lat=%{lat}<br>lng=%{lon}<extra></extra>",
                  "hovertext": [
                    "Autódromo Hermanos Rodríguez"
                  ],
                  "lat": [
                    19.4042
                  ],
                  "legendgroup": "Mexico",
                  "lon": [
                    -99.0907
                  ],
                  "marker": {
                    "color": "#ab63fa",
                    "size": [
                      23
                    ],
                    "sizemode": "area",
                    "sizeref": 0.1825,
                    "symbol": "circle"
                  },
                  "mode": "markers",
                  "name": "Mexico",
                  "showlegend": true,
                  "type": "scattergeo"
                },
                {
                  "geo": "geo",
                  "hovertemplate": "<b>%{hovertext}</b><br><br>country=Argentina<br>count=%{marker.size}<br>lat=%{lat}<br>lng=%{lon}<extra></extra>",
                  "hovertext": [
                    "Autódromo Juan y Oscar Gálvez"
                  ],
                  "lat": [
                    -34.6943
                  ],
                  "legendgroup": "Argentina",
                  "lon": [
                    -58.4593
                  ],
                  "marker": {
                    "color": "#FFA15A",
                    "size": [
                      20
                    ],
                    "sizemode": "area",
                    "sizeref": 0.1825,
                    "symbol": "circle"
                  },
                  "mode": "markers",
                  "name": "Argentina",
                  "showlegend": true,
                  "type": "scattergeo"
                },
                {
                  "geo": "geo",
                  "hovertemplate": "<b>%{hovertext}</b><br><br>country=South Africa<br>count=%{marker.size}<br>lat=%{lat}<br>lng=%{lon}<extra></extra>",
                  "hovertext": [
                    "Kyalami",
                    "Prince George Circuit"
                  ],
                  "lat": [
                    -25.9894,
                    -33.0486
                  ],
                  "legendgroup": "South Africa",
                  "lon": [
                    28.0767,
                    27.8736
                  ],
                  "marker": {
                    "color": "#19d3f3",
                    "size": [
                      20,
                      3
                    ],
                    "sizemode": "area",
                    "sizeref": 0.1825,
                    "symbol": "circle"
                  },
                  "mode": "markers",
                  "name": "South Africa",
                  "showlegend": true,
                  "type": "scattergeo"
                },
                {
                  "geo": "geo",
                  "hovertemplate": "<b>%{hovertext}</b><br><br>country=USA<br>count=%{marker.size}<br>lat=%{lat}<br>lng=%{lon}<extra></extra>",
                  "hovertext": [
                    "Watkins Glen",
                    "Indianapolis Motor Speedway",
                    "Circuit of the Americas",
                    "Long Beach",
                    "Detroit Street Circuit",
                    "Phoenix street circuit",
                    "Las Vegas Street Circuit",
                    "Miami International Autodrome",
                    "Sebring International Raceway",
                    "Riverside International Raceway",
                    "Fair Park"
                  ],
                  "lat": [
                    42.3369,
                    39.795,
                    30.1328,
                    33.7651,
                    42.3298,
                    33.4479,
                    36.1162,
                    25.9581,
                    27.4547,
                    33.937,
                    32.7774
                  ],
                  "legendgroup": "USA",
                  "lon": [
                    -76.9272,
                    -86.2347,
                    -97.6411,
                    -118.189,
                    -83.0401,
                    -112.075,
                    -115.174,
                    -80.2389,
                    -81.3483,
                    -117.273,
                    -96.7587
                  ],
                  "marker": {
                    "color": "#FF6692",
                    "size": [
                      20,
                      19,
                      11,
                      8,
                      7,
                      3,
                      2,
                      2,
                      1,
                      1,
                      1
                    ],
                    "sizemode": "area",
                    "sizeref": 0.1825,
                    "symbol": "circle"
                  },
                  "mode": "markers",
                  "name": "USA",
                  "showlegend": true,
                  "type": "scattergeo"
                },
                {
                  "geo": "geo",
                  "hovertemplate": "<b>%{hovertext}</b><br><br>country=Bahrain<br>count=%{marker.size}<br>lat=%{lat}<br>lng=%{lon}<extra></extra>",
                  "hovertext": [
                    "Bahrain International Circuit"
                  ],
                  "lat": [
                    26.0325
                  ],
                  "legendgroup": "Bahrain",
                  "lon": [
                    50.5106
                  ],
                  "marker": {
                    "color": "#B6E880",
                    "size": [
                      20
                    ],
                    "sizemode": "area",
                    "sizeref": 0.1825,
                    "symbol": "circle"
                  },
                  "mode": "markers",
                  "name": "Bahrain",
                  "showlegend": true,
                  "type": "scattergeo"
                },
                {
                  "geo": "geo",
                  "hovertemplate": "<b>%{hovertext}</b><br><br>country=Malaysia<br>count=%{marker.size}<br>lat=%{lat}<br>lng=%{lon}<extra></extra>",
                  "hovertext": [
                    "Sepang International Circuit"
                  ],
                  "lat": [
                    2.76083
                  ],
                  "legendgroup": "Malaysia",
                  "lon": [
                    101.738
                  ],
                  "marker": {
                    "color": "#FF97FF",
                    "size": [
                      19
                    ],
                    "sizemode": "area",
                    "sizeref": 0.1825,
                    "symbol": "circle"
                  },
                  "mode": "markers",
                  "name": "Malaysia",
                  "showlegend": true,
                  "type": "scattergeo"
                },
                {
                  "geo": "geo",
                  "hovertemplate": "<b>%{hovertext}</b><br><br>country=France<br>count=%{marker.size}<br>lat=%{lat}<br>lng=%{lon}<extra></extra>",
                  "hovertext": [
                    "Circuit Paul Ricard",
                    "Circuit de Nevers Magny-Cours",
                    "Reims-Gueux",
                    "Dijon-Prenois",
                    "Rouen-Les-Essarts",
                    "Charade Circuit",
                    "Le Mans"
                  ],
                  "lat": [
                    43.2506,
                    46.8642,
                    49.2542,
                    47.3625,
                    49.3306,
                    45.7472,
                    47.95
                  ],
                  "legendgroup": "France",
                  "lon": [
                    5.79167,
                    3.16361,
                    3.93083,
                    4.89913,
                    1.00458,
                    3.03889,
                    0.224231
                  ],
                  "marker": {
                    "color": "#FECB52",
                    "size": [
                      18,
                      18,
                      11,
                      6,
                      5,
                      4,
                      1
                    ],
                    "sizemode": "area",
                    "sizeref": 0.1825,
                    "symbol": "circle"
                  },
                  "mode": "markers",
                  "name": "France",
                  "showlegend": true,
                  "type": "scattergeo"
                },
                {
                  "geo": "geo",
                  "hovertemplate": "<b>%{hovertext}</b><br><br>country=China<br>count=%{marker.size}<br>lat=%{lat}<br>lng=%{lon}<extra></extra>",
                  "hovertext": [
                    "Shanghai International Circuit"
                  ],
                  "lat": [
                    31.3389
                  ],
                  "legendgroup": "China",
                  "lon": [
                    121.22
                  ],
                  "marker": {
                    "color": "#636efa",
                    "size": [
                      16
                    ],
                    "sizemode": "area",
                    "sizeref": 0.1825,
                    "symbol": "circle"
                  },
                  "mode": "markers",
                  "name": "China",
                  "showlegend": true,
                  "type": "scattergeo"
                },
                {
                  "geo": "geo",
                  "hovertemplate": "<b>%{hovertext}</b><br><br>country=UAE<br>count=%{marker.size}<br>lat=%{lat}<br>lng=%{lon}<extra></extra>",
                  "hovertext": [
                    "Yas Marina Circuit"
                  ],
                  "lat": [
                    24.4672
                  ],
                  "legendgroup": "UAE",
                  "lon": [
                    54.6031
                  ],
                  "marker": {
                    "color": "#EF553B",
                    "size": [
                      15
                    ],
                    "sizemode": "area",
                    "sizeref": 0.1825,
                    "symbol": "circle"
                  },
                  "mode": "markers",
                  "name": "UAE",
                  "showlegend": true,
                  "type": "scattergeo"
                },
                {
                  "geo": "geo",
                  "hovertemplate": "<b>%{hovertext}</b><br><br>country=Singapore<br>count=%{marker.size}<br>lat=%{lat}<br>lng=%{lon}<extra></extra>",
                  "hovertext": [
                    "Marina Bay Street Circuit"
                  ],
                  "lat": [
                    1.2914
                  ],
                  "legendgroup": "Singapore",
                  "lon": [
                    103.864
                  ],
                  "marker": {
                    "color": "#00cc96",
                    "size": [
                      14
                    ],
                    "sizemode": "area",
                    "sizeref": 0.1825,
                    "symbol": "circle"
                  },
                  "mode": "markers",
                  "name": "Singapore",
                  "showlegend": true,
                  "type": "scattergeo"
                },
                {
                  "geo": "geo",
                  "hovertemplate": "<b>%{hovertext}</b><br><br>country=Portugal<br>count=%{marker.size}<br>lat=%{lat}<br>lng=%{lon}<extra></extra>",
                  "hovertext": [
                    "Autódromo do Estoril",
                    "Autódromo Internacional do Algarve",
                    "Circuito da Boavista",
                    "Monsanto Park Circuit"
                  ],
                  "lat": [
                    38.7506,
                    37.227,
                    41.1705,
                    38.7197
                  ],
                  "legendgroup": "Portugal",
                  "lon": [
                    -9.39417,
                    -8.6267,
                    -8.67325,
                    -9.20306
                  ],
                  "marker": {
                    "color": "#ab63fa",
                    "size": [
                      13,
                      2,
                      2,
                      1
                    ],
                    "sizemode": "area",
                    "sizeref": 0.1825,
                    "symbol": "circle"
                  },
                  "mode": "markers",
                  "name": "Portugal",
                  "showlegend": true,
                  "type": "scattergeo"
                },
                {
                  "geo": "geo",
                  "hovertemplate": "<b>%{hovertext}</b><br><br>country=Turkey<br>count=%{marker.size}<br>lat=%{lat}<br>lng=%{lon}<extra></extra>",
                  "hovertext": [
                    "Istanbul Park"
                  ],
                  "lat": [
                    40.9517
                  ],
                  "legendgroup": "Turkey",
                  "lon": [
                    29.405
                  ],
                  "marker": {
                    "color": "#FFA15A",
                    "size": [
                      9
                    ],
                    "sizemode": "area",
                    "sizeref": 0.1825,
                    "symbol": "circle"
                  },
                  "mode": "markers",
                  "name": "Turkey",
                  "showlegend": true,
                  "type": "scattergeo"
                },
                {
                  "geo": "geo",
                  "hovertemplate": "<b>%{hovertext}</b><br><br>country=Russia<br>count=%{marker.size}<br>lat=%{lat}<br>lng=%{lon}<extra></extra>",
                  "hovertext": [
                    "Sochi Autodrom"
                  ],
                  "lat": [
                    43.4057
                  ],
                  "legendgroup": "Russia",
                  "lon": [
                    39.9578
                  ],
                  "marker": {
                    "color": "#19d3f3",
                    "size": [
                      8
                    ],
                    "sizemode": "area",
                    "sizeref": 0.1825,
                    "symbol": "circle"
                  },
                  "mode": "markers",
                  "name": "Russia",
                  "showlegend": true,
                  "type": "scattergeo"
                },
                {
                  "geo": "geo",
                  "hovertemplate": "<b>%{hovertext}</b><br><br>country=Azerbaijan<br>count=%{marker.size}<br>lat=%{lat}<br>lng=%{lon}<extra></extra>",
                  "hovertext": [
                    "Baku City Circuit"
                  ],
                  "lat": [
                    40.3725
                  ],
                  "legendgroup": "Azerbaijan",
                  "lon": [
                    49.8533
                  ],
                  "marker": {
                    "color": "#FF6692",
                    "size": [
                      7
                    ],
                    "sizemode": "area",
                    "sizeref": 0.1825,
                    "symbol": "circle"
                  },
                  "mode": "markers",
                  "name": "Azerbaijan",
                  "showlegend": true,
                  "type": "scattergeo"
                },
                {
                  "geo": "geo",
                  "hovertemplate": "<b>%{hovertext}</b><br><br>country=Sweden<br>count=%{marker.size}<br>lat=%{lat}<br>lng=%{lon}<extra></extra>",
                  "hovertext": [
                    "Scandinavian Raceway"
                  ],
                  "lat": [
                    57.2653
                  ],
                  "legendgroup": "Sweden",
                  "lon": [
                    13.6042
                  ],
                  "marker": {
                    "color": "#B6E880",
                    "size": [
                      6
                    ],
                    "sizemode": "area",
                    "sizeref": 0.1825,
                    "symbol": "circle"
                  },
                  "mode": "markers",
                  "name": "Sweden",
                  "showlegend": true,
                  "type": "scattergeo"
                },
                {
                  "geo": "geo",
                  "hovertemplate": "<b>%{hovertext}</b><br><br>country=Switzerland<br>count=%{marker.size}<br>lat=%{lat}<br>lng=%{lon}<extra></extra>",
                  "hovertext": [
                    "Circuit Bremgarten"
                  ],
                  "lat": [
                    46.9589
                  ],
                  "legendgroup": "Switzerland",
                  "lon": [
                    7.40194
                  ],
                  "marker": {
                    "color": "#FF97FF",
                    "size": [
                      5
                    ],
                    "sizemode": "area",
                    "sizeref": 0.1825,
                    "symbol": "circle"
                  },
                  "mode": "markers",
                  "name": "Switzerland",
                  "showlegend": true,
                  "type": "scattergeo"
                },
                {
                  "geo": "geo",
                  "hovertemplate": "<b>%{hovertext}</b><br><br>country=Korea<br>count=%{marker.size}<br>lat=%{lat}<br>lng=%{lon}<extra></extra>",
                  "hovertext": [
                    "Korean International Circuit"
                  ],
                  "lat": [
                    34.7333
                  ],
                  "legendgroup": "Korea",
                  "lon": [
                    126.417
                  ],
                  "marker": {
                    "color": "#FECB52",
                    "size": [
                      4
                    ],
                    "sizemode": "area",
                    "sizeref": 0.1825,
                    "symbol": "circle"
                  },
                  "mode": "markers",
                  "name": "Korea",
                  "showlegend": true,
                  "type": "scattergeo"
                },
                {
                  "geo": "geo",
                  "hovertemplate": "<b>%{hovertext}</b><br><br>country=India<br>count=%{marker.size}<br>lat=%{lat}<br>lng=%{lon}<extra></extra>",
                  "hovertext": [
                    "Buddh International Circuit"
                  ],
                  "lat": [
                    28.3487
                  ],
                  "legendgroup": "India",
                  "lon": [
                    77.5331
                  ],
                  "marker": {
                    "color": "#636efa",
                    "size": [
                      3
                    ],
                    "sizemode": "area",
                    "sizeref": 0.1825,
                    "symbol": "circle"
                  },
                  "mode": "markers",
                  "name": "India",
                  "showlegend": true,
                  "type": "scattergeo"
                },
                {
                  "geo": "geo",
                  "hovertemplate": "<b>%{hovertext}</b><br><br>country=Saudi Arabia<br>count=%{marker.size}<br>lat=%{lat}<br>lng=%{lon}<extra></extra>",
                  "hovertext": [
                    "Jeddah Corniche Circuit"
                  ],
                  "lat": [
                    21.6319
                  ],
                  "legendgroup": "Saudi Arabia",
                  "lon": [
                    39.1044
                  ],
                  "marker": {
                    "color": "#EF553B",
                    "size": [
                      3
                    ],
                    "sizemode": "area",
                    "sizeref": 0.1825,
                    "symbol": "circle"
                  },
                  "mode": "markers",
                  "name": "Saudi Arabia",
                  "showlegend": true,
                  "type": "scattergeo"
                },
                {
                  "geo": "geo",
                  "hovertemplate": "<b>%{hovertext}</b><br><br>country=Qatar<br>count=%{marker.size}<br>lat=%{lat}<br>lng=%{lon}<extra></extra>",
                  "hovertext": [
                    "Losail International Circuit"
                  ],
                  "lat": [
                    25.49
                  ],
                  "legendgroup": "Qatar",
                  "lon": [
                    51.4542
                  ],
                  "marker": {
                    "color": "#00cc96",
                    "size": [
                      2
                    ],
                    "sizemode": "area",
                    "sizeref": 0.1825,
                    "symbol": "circle"
                  },
                  "mode": "markers",
                  "name": "Qatar",
                  "showlegend": true,
                  "type": "scattergeo"
                },
                {
                  "geo": "geo",
                  "hovertemplate": "<b>%{hovertext}</b><br><br>country=Morocco<br>count=%{marker.size}<br>lat=%{lat}<br>lng=%{lon}<extra></extra>",
                  "hovertext": [
                    "Ain Diab"
                  ],
                  "lat": [
                    33.5786
                  ],
                  "legendgroup": "Morocco",
                  "lon": [
                    -7.6875
                  ],
                  "marker": {
                    "color": "#ab63fa",
                    "size": [
                      1
                    ],
                    "sizemode": "area",
                    "sizeref": 0.1825,
                    "symbol": "circle"
                  },
                  "mode": "markers",
                  "name": "Morocco",
                  "showlegend": true,
                  "type": "scattergeo"
                },
                {
                  "geo": "geo",
                  "hovertemplate": "<b>%{hovertext}</b><br><br>country=United States<br>count=%{marker.size}<br>lat=%{lat}<br>lng=%{lon}<extra></extra>",
                  "hovertext": [
                    "Las Vegas Strip Street Circuit"
                  ],
                  "lat": [
                    36.1147
                  ],
                  "legendgroup": "United States",
                  "lon": [
                    -115.173
                  ],
                  "marker": {
                    "color": "#FFA15A",
                    "size": [
                      1
                    ],
                    "sizemode": "area",
                    "sizeref": 0.1825,
                    "symbol": "circle"
                  },
                  "mode": "markers",
                  "name": "United States",
                  "showlegend": true,
                  "type": "scattergeo"
                }
              ],
              "layout": {
                "geo": {
                  "center": {},
                  "domain": {
                    "x": [
                      0,
                      1
                    ],
                    "y": [
                      0,
                      1
                    ]
                  },
                  "projection": {
                    "type": "natural earth"
                  }
                },
                "legend": {
                  "itemsizing": "constant",
                  "title": {
                    "text": "country"
                  },
                  "tracegroupgap": 0
                },
                "margin": {
                  "t": 60
                },
                "template": {
                  "data": {
                    "bar": [
                      {
                        "error_x": {
                          "color": "#2a3f5f"
                        },
                        "error_y": {
                          "color": "#2a3f5f"
                        },
                        "marker": {
                          "line": {
                            "color": "#E5ECF6",
                            "width": 0.5
                          },
                          "pattern": {
                            "fillmode": "overlay",
                            "size": 10,
                            "solidity": 0.2
                          }
                        },
                        "type": "bar"
                      }
                    ],
                    "barpolar": [
                      {
                        "marker": {
                          "line": {
                            "color": "#E5ECF6",
                            "width": 0.5
                          },
                          "pattern": {
                            "fillmode": "overlay",
                            "size": 10,
                            "solidity": 0.2
                          }
                        },
                        "type": "barpolar"
                      }
                    ],
                    "carpet": [
                      {
                        "aaxis": {
                          "endlinecolor": "#2a3f5f",
                          "gridcolor": "white",
                          "linecolor": "white",
                          "minorgridcolor": "white",
                          "startlinecolor": "#2a3f5f"
                        },
                        "baxis": {
                          "endlinecolor": "#2a3f5f",
                          "gridcolor": "white",
                          "linecolor": "white",
                          "minorgridcolor": "white",
                          "startlinecolor": "#2a3f5f"
                        },
                        "type": "carpet"
                      }
                    ],
                    "choropleth": [
                      {
                        "colorbar": {
                          "outlinewidth": 0,
                          "ticks": ""
                        },
                        "type": "choropleth"
                      }
                    ],
                    "contour": [
                      {
                        "colorbar": {
                          "outlinewidth": 0,
                          "ticks": ""
                        },
                        "colorscale": [
                          [
                            0,
                            "#0d0887"
                          ],
                          [
                            0.1111111111111111,
                            "#46039f"
                          ],
                          [
                            0.2222222222222222,
                            "#7201a8"
                          ],
                          [
                            0.3333333333333333,
                            "#9c179e"
                          ],
                          [
                            0.4444444444444444,
                            "#bd3786"
                          ],
                          [
                            0.5555555555555556,
                            "#d8576b"
                          ],
                          [
                            0.6666666666666666,
                            "#ed7953"
                          ],
                          [
                            0.7777777777777778,
                            "#fb9f3a"
                          ],
                          [
                            0.8888888888888888,
                            "#fdca26"
                          ],
                          [
                            1,
                            "#f0f921"
                          ]
                        ],
                        "type": "contour"
                      }
                    ],
                    "contourcarpet": [
                      {
                        "colorbar": {
                          "outlinewidth": 0,
                          "ticks": ""
                        },
                        "type": "contourcarpet"
                      }
                    ],
                    "heatmap": [
                      {
                        "colorbar": {
                          "outlinewidth": 0,
                          "ticks": ""
                        },
                        "colorscale": [
                          [
                            0,
                            "#0d0887"
                          ],
                          [
                            0.1111111111111111,
                            "#46039f"
                          ],
                          [
                            0.2222222222222222,
                            "#7201a8"
                          ],
                          [
                            0.3333333333333333,
                            "#9c179e"
                          ],
                          [
                            0.4444444444444444,
                            "#bd3786"
                          ],
                          [
                            0.5555555555555556,
                            "#d8576b"
                          ],
                          [
                            0.6666666666666666,
                            "#ed7953"
                          ],
                          [
                            0.7777777777777778,
                            "#fb9f3a"
                          ],
                          [
                            0.8888888888888888,
                            "#fdca26"
                          ],
                          [
                            1,
                            "#f0f921"
                          ]
                        ],
                        "type": "heatmap"
                      }
                    ],
                    "heatmapgl": [
                      {
                        "colorbar": {
                          "outlinewidth": 0,
                          "ticks": ""
                        },
                        "colorscale": [
                          [
                            0,
                            "#0d0887"
                          ],
                          [
                            0.1111111111111111,
                            "#46039f"
                          ],
                          [
                            0.2222222222222222,
                            "#7201a8"
                          ],
                          [
                            0.3333333333333333,
                            "#9c179e"
                          ],
                          [
                            0.4444444444444444,
                            "#bd3786"
                          ],
                          [
                            0.5555555555555556,
                            "#d8576b"
                          ],
                          [
                            0.6666666666666666,
                            "#ed7953"
                          ],
                          [
                            0.7777777777777778,
                            "#fb9f3a"
                          ],
                          [
                            0.8888888888888888,
                            "#fdca26"
                          ],
                          [
                            1,
                            "#f0f921"
                          ]
                        ],
                        "type": "heatmapgl"
                      }
                    ],
                    "histogram": [
                      {
                        "marker": {
                          "pattern": {
                            "fillmode": "overlay",
                            "size": 10,
                            "solidity": 0.2
                          }
                        },
                        "type": "histogram"
                      }
                    ],
                    "histogram2d": [
                      {
                        "colorbar": {
                          "outlinewidth": 0,
                          "ticks": ""
                        },
                        "colorscale": [
                          [
                            0,
                            "#0d0887"
                          ],
                          [
                            0.1111111111111111,
                            "#46039f"
                          ],
                          [
                            0.2222222222222222,
                            "#7201a8"
                          ],
                          [
                            0.3333333333333333,
                            "#9c179e"
                          ],
                          [
                            0.4444444444444444,
                            "#bd3786"
                          ],
                          [
                            0.5555555555555556,
                            "#d8576b"
                          ],
                          [
                            0.6666666666666666,
                            "#ed7953"
                          ],
                          [
                            0.7777777777777778,
                            "#fb9f3a"
                          ],
                          [
                            0.8888888888888888,
                            "#fdca26"
                          ],
                          [
                            1,
                            "#f0f921"
                          ]
                        ],
                        "type": "histogram2d"
                      }
                    ],
                    "histogram2dcontour": [
                      {
                        "colorbar": {
                          "outlinewidth": 0,
                          "ticks": ""
                        },
                        "colorscale": [
                          [
                            0,
                            "#0d0887"
                          ],
                          [
                            0.1111111111111111,
                            "#46039f"
                          ],
                          [
                            0.2222222222222222,
                            "#7201a8"
                          ],
                          [
                            0.3333333333333333,
                            "#9c179e"
                          ],
                          [
                            0.4444444444444444,
                            "#bd3786"
                          ],
                          [
                            0.5555555555555556,
                            "#d8576b"
                          ],
                          [
                            0.6666666666666666,
                            "#ed7953"
                          ],
                          [
                            0.7777777777777778,
                            "#fb9f3a"
                          ],
                          [
                            0.8888888888888888,
                            "#fdca26"
                          ],
                          [
                            1,
                            "#f0f921"
                          ]
                        ],
                        "type": "histogram2dcontour"
                      }
                    ],
                    "mesh3d": [
                      {
                        "colorbar": {
                          "outlinewidth": 0,
                          "ticks": ""
                        },
                        "type": "mesh3d"
                      }
                    ],
                    "parcoords": [
                      {
                        "line": {
                          "colorbar": {
                            "outlinewidth": 0,
                            "ticks": ""
                          }
                        },
                        "type": "parcoords"
                      }
                    ],
                    "pie": [
                      {
                        "automargin": true,
                        "type": "pie"
                      }
                    ],
                    "scatter": [
                      {
                        "fillpattern": {
                          "fillmode": "overlay",
                          "size": 10,
                          "solidity": 0.2
                        },
                        "type": "scatter"
                      }
                    ],
                    "scatter3d": [
                      {
                        "line": {
                          "colorbar": {
                            "outlinewidth": 0,
                            "ticks": ""
                          }
                        },
                        "marker": {
                          "colorbar": {
                            "outlinewidth": 0,
                            "ticks": ""
                          }
                        },
                        "type": "scatter3d"
                      }
                    ],
                    "scattercarpet": [
                      {
                        "marker": {
                          "colorbar": {
                            "outlinewidth": 0,
                            "ticks": ""
                          }
                        },
                        "type": "scattercarpet"
                      }
                    ],
                    "scattergeo": [
                      {
                        "marker": {
                          "colorbar": {
                            "outlinewidth": 0,
                            "ticks": ""
                          }
                        },
                        "type": "scattergeo"
                      }
                    ],
                    "scattergl": [
                      {
                        "marker": {
                          "colorbar": {
                            "outlinewidth": 0,
                            "ticks": ""
                          }
                        },
                        "type": "scattergl"
                      }
                    ],
                    "scattermapbox": [
                      {
                        "marker": {
                          "colorbar": {
                            "outlinewidth": 0,
                            "ticks": ""
                          }
                        },
                        "type": "scattermapbox"
                      }
                    ],
                    "scatterpolar": [
                      {
                        "marker": {
                          "colorbar": {
                            "outlinewidth": 0,
                            "ticks": ""
                          }
                        },
                        "type": "scatterpolar"
                      }
                    ],
                    "scatterpolargl": [
                      {
                        "marker": {
                          "colorbar": {
                            "outlinewidth": 0,
                            "ticks": ""
                          }
                        },
                        "type": "scatterpolargl"
                      }
                    ],
                    "scatterternary": [
                      {
                        "marker": {
                          "colorbar": {
                            "outlinewidth": 0,
                            "ticks": ""
                          }
                        },
                        "type": "scatterternary"
                      }
                    ],
                    "surface": [
                      {
                        "colorbar": {
                          "outlinewidth": 0,
                          "ticks": ""
                        },
                        "colorscale": [
                          [
                            0,
                            "#0d0887"
                          ],
                          [
                            0.1111111111111111,
                            "#46039f"
                          ],
                          [
                            0.2222222222222222,
                            "#7201a8"
                          ],
                          [
                            0.3333333333333333,
                            "#9c179e"
                          ],
                          [
                            0.4444444444444444,
                            "#bd3786"
                          ],
                          [
                            0.5555555555555556,
                            "#d8576b"
                          ],
                          [
                            0.6666666666666666,
                            "#ed7953"
                          ],
                          [
                            0.7777777777777778,
                            "#fb9f3a"
                          ],
                          [
                            0.8888888888888888,
                            "#fdca26"
                          ],
                          [
                            1,
                            "#f0f921"
                          ]
                        ],
                        "type": "surface"
                      }
                    ],
                    "table": [
                      {
                        "cells": {
                          "fill": {
                            "color": "#EBF0F8"
                          },
                          "line": {
                            "color": "white"
                          }
                        },
                        "header": {
                          "fill": {
                            "color": "#C8D4E3"
                          },
                          "line": {
                            "color": "white"
                          }
                        },
                        "type": "table"
                      }
                    ]
                  },
                  "layout": {
                    "annotationdefaults": {
                      "arrowcolor": "#2a3f5f",
                      "arrowhead": 0,
                      "arrowwidth": 1
                    },
                    "autotypenumbers": "strict",
                    "coloraxis": {
                      "colorbar": {
                        "outlinewidth": 0,
                        "ticks": ""
                      }
                    },
                    "colorscale": {
                      "diverging": [
                        [
                          0,
                          "#8e0152"
                        ],
                        [
                          0.1,
                          "#c51b7d"
                        ],
                        [
                          0.2,
                          "#de77ae"
                        ],
                        [
                          0.3,
                          "#f1b6da"
                        ],
                        [
                          0.4,
                          "#fde0ef"
                        ],
                        [
                          0.5,
                          "#f7f7f7"
                        ],
                        [
                          0.6,
                          "#e6f5d0"
                        ],
                        [
                          0.7,
                          "#b8e186"
                        ],
                        [
                          0.8,
                          "#7fbc41"
                        ],
                        [
                          0.9,
                          "#4d9221"
                        ],
                        [
                          1,
                          "#276419"
                        ]
                      ],
                      "sequential": [
                        [
                          0,
                          "#0d0887"
                        ],
                        [
                          0.1111111111111111,
                          "#46039f"
                        ],
                        [
                          0.2222222222222222,
                          "#7201a8"
                        ],
                        [
                          0.3333333333333333,
                          "#9c179e"
                        ],
                        [
                          0.4444444444444444,
                          "#bd3786"
                        ],
                        [
                          0.5555555555555556,
                          "#d8576b"
                        ],
                        [
                          0.6666666666666666,
                          "#ed7953"
                        ],
                        [
                          0.7777777777777778,
                          "#fb9f3a"
                        ],
                        [
                          0.8888888888888888,
                          "#fdca26"
                        ],
                        [
                          1,
                          "#f0f921"
                        ]
                      ],
                      "sequentialminus": [
                        [
                          0,
                          "#0d0887"
                        ],
                        [
                          0.1111111111111111,
                          "#46039f"
                        ],
                        [
                          0.2222222222222222,
                          "#7201a8"
                        ],
                        [
                          0.3333333333333333,
                          "#9c179e"
                        ],
                        [
                          0.4444444444444444,
                          "#bd3786"
                        ],
                        [
                          0.5555555555555556,
                          "#d8576b"
                        ],
                        [
                          0.6666666666666666,
                          "#ed7953"
                        ],
                        [
                          0.7777777777777778,
                          "#fb9f3a"
                        ],
                        [
                          0.8888888888888888,
                          "#fdca26"
                        ],
                        [
                          1,
                          "#f0f921"
                        ]
                      ]
                    },
                    "colorway": [
                      "#636efa",
                      "#EF553B",
                      "#00cc96",
                      "#ab63fa",
                      "#FFA15A",
                      "#19d3f3",
                      "#FF6692",
                      "#B6E880",
                      "#FF97FF",
                      "#FECB52"
                    ],
                    "font": {
                      "color": "#2a3f5f"
                    },
                    "geo": {
                      "bgcolor": "white",
                      "lakecolor": "white",
                      "landcolor": "#E5ECF6",
                      "showlakes": true,
                      "showland": true,
                      "subunitcolor": "white"
                    },
                    "hoverlabel": {
                      "align": "left"
                    },
                    "hovermode": "closest",
                    "mapbox": {
                      "style": "light"
                    },
                    "paper_bgcolor": "white",
                    "plot_bgcolor": "#E5ECF6",
                    "polar": {
                      "angularaxis": {
                        "gridcolor": "white",
                        "linecolor": "white",
                        "ticks": ""
                      },
                      "bgcolor": "#E5ECF6",
                      "radialaxis": {
                        "gridcolor": "white",
                        "linecolor": "white",
                        "ticks": ""
                      }
                    },
                    "scene": {
                      "xaxis": {
                        "backgroundcolor": "#E5ECF6",
                        "gridcolor": "white",
                        "gridwidth": 2,
                        "linecolor": "white",
                        "showbackground": true,
                        "ticks": "",
                        "zerolinecolor": "white"
                      },
                      "yaxis": {
                        "backgroundcolor": "#E5ECF6",
                        "gridcolor": "white",
                        "gridwidth": 2,
                        "linecolor": "white",
                        "showbackground": true,
                        "ticks": "",
                        "zerolinecolor": "white"
                      },
                      "zaxis": {
                        "backgroundcolor": "#E5ECF6",
                        "gridcolor": "white",
                        "gridwidth": 2,
                        "linecolor": "white",
                        "showbackground": true,
                        "ticks": "",
                        "zerolinecolor": "white"
                      }
                    },
                    "shapedefaults": {
                      "line": {
                        "color": "#2a3f5f"
                      }
                    },
                    "ternary": {
                      "aaxis": {
                        "gridcolor": "white",
                        "linecolor": "white",
                        "ticks": ""
                      },
                      "baxis": {
                        "gridcolor": "white",
                        "linecolor": "white",
                        "ticks": ""
                      },
                      "bgcolor": "#E5ECF6",
                      "caxis": {
                        "gridcolor": "white",
                        "linecolor": "white",
                        "ticks": ""
                      }
                    },
                    "title": {
                      "x": 0.05
                    },
                    "xaxis": {
                      "automargin": true,
                      "gridcolor": "white",
                      "linecolor": "white",
                      "ticks": "",
                      "title": {
                        "standoff": 15
                      },
                      "zerolinecolor": "white",
                      "zerolinewidth": 2
                    },
                    "yaxis": {
                      "automargin": true,
                      "gridcolor": "white",
                      "linecolor": "white",
                      "ticks": "",
                      "title": {
                        "standoff": 15
                      },
                      "zerolinecolor": "white",
                      "zerolinewidth": 2
                    }
                  }
                }
              }
            }
          },
          "metadata": {},
          "output_type": "display_data"
        }
      ],
      "source": [
        "fig=px.scatter_geo(countries_with_most_races,lon='lng',lat='lat',size='count',hover_name='name',color='country',projection=\"natural earth\")\n",
        "fig.show()"
      ]
    },
    {
      "cell_type": "code",
      "execution_count": 15,
      "metadata": {},
      "outputs": [],
      "source": [
        "races=pd.read_csv(filepath+'races.csv')\n",
        "results=pd.read_csv(filepath+'results.csv')\n",
        "status=pd.read_csv(filepath+'status.csv')"
      ]
    },
    {
      "cell_type": "code",
      "execution_count": 16,
      "metadata": {},
      "outputs": [
        {
          "data": {
            "text/html": [
              "<div>\n",
              "<style scoped>\n",
              "    .dataframe tbody tr th:only-of-type {\n",
              "        vertical-align: middle;\n",
              "    }\n",
              "\n",
              "    .dataframe tbody tr th {\n",
              "        vertical-align: top;\n",
              "    }\n",
              "\n",
              "    .dataframe thead th {\n",
              "        text-align: right;\n",
              "    }\n",
              "</style>\n",
              "<table border=\"1\" class=\"dataframe\">\n",
              "  <thead>\n",
              "    <tr style=\"text-align: right;\">\n",
              "      <th></th>\n",
              "      <th>raceId</th>\n",
              "      <th>year</th>\n",
              "      <th>round</th>\n",
              "      <th>circuitId</th>\n",
              "      <th>name</th>\n",
              "      <th>date</th>\n",
              "      <th>time</th>\n",
              "      <th>url</th>\n",
              "      <th>fp1_date</th>\n",
              "      <th>fp1_time</th>\n",
              "      <th>fp2_date</th>\n",
              "      <th>fp2_time</th>\n",
              "      <th>fp3_date</th>\n",
              "      <th>fp3_time</th>\n",
              "      <th>quali_date</th>\n",
              "      <th>quali_time</th>\n",
              "      <th>sprint_date</th>\n",
              "      <th>sprint_time</th>\n",
              "    </tr>\n",
              "  </thead>\n",
              "  <tbody>\n",
              "    <tr>\n",
              "      <th>0</th>\n",
              "      <td>1</td>\n",
              "      <td>2009</td>\n",
              "      <td>1</td>\n",
              "      <td>1</td>\n",
              "      <td>Australian Grand Prix</td>\n",
              "      <td>2009-03-29</td>\n",
              "      <td>06:00:00</td>\n",
              "      <td>http://en.wikipedia.org/wiki/2009_Australian_G...</td>\n",
              "      <td>\\N</td>\n",
              "      <td>\\N</td>\n",
              "      <td>\\N</td>\n",
              "      <td>\\N</td>\n",
              "      <td>\\N</td>\n",
              "      <td>\\N</td>\n",
              "      <td>\\N</td>\n",
              "      <td>\\N</td>\n",
              "      <td>\\N</td>\n",
              "      <td>\\N</td>\n",
              "    </tr>\n",
              "    <tr>\n",
              "      <th>1</th>\n",
              "      <td>2</td>\n",
              "      <td>2009</td>\n",
              "      <td>2</td>\n",
              "      <td>2</td>\n",
              "      <td>Malaysian Grand Prix</td>\n",
              "      <td>2009-04-05</td>\n",
              "      <td>09:00:00</td>\n",
              "      <td>http://en.wikipedia.org/wiki/2009_Malaysian_Gr...</td>\n",
              "      <td>\\N</td>\n",
              "      <td>\\N</td>\n",
              "      <td>\\N</td>\n",
              "      <td>\\N</td>\n",
              "      <td>\\N</td>\n",
              "      <td>\\N</td>\n",
              "      <td>\\N</td>\n",
              "      <td>\\N</td>\n",
              "      <td>\\N</td>\n",
              "      <td>\\N</td>\n",
              "    </tr>\n",
              "    <tr>\n",
              "      <th>2</th>\n",
              "      <td>3</td>\n",
              "      <td>2009</td>\n",
              "      <td>3</td>\n",
              "      <td>17</td>\n",
              "      <td>Chinese Grand Prix</td>\n",
              "      <td>2009-04-19</td>\n",
              "      <td>07:00:00</td>\n",
              "      <td>http://en.wikipedia.org/wiki/2009_Chinese_Gran...</td>\n",
              "      <td>\\N</td>\n",
              "      <td>\\N</td>\n",
              "      <td>\\N</td>\n",
              "      <td>\\N</td>\n",
              "      <td>\\N</td>\n",
              "      <td>\\N</td>\n",
              "      <td>\\N</td>\n",
              "      <td>\\N</td>\n",
              "      <td>\\N</td>\n",
              "      <td>\\N</td>\n",
              "    </tr>\n",
              "    <tr>\n",
              "      <th>3</th>\n",
              "      <td>4</td>\n",
              "      <td>2009</td>\n",
              "      <td>4</td>\n",
              "      <td>3</td>\n",
              "      <td>Bahrain Grand Prix</td>\n",
              "      <td>2009-04-26</td>\n",
              "      <td>12:00:00</td>\n",
              "      <td>http://en.wikipedia.org/wiki/2009_Bahrain_Gran...</td>\n",
              "      <td>\\N</td>\n",
              "      <td>\\N</td>\n",
              "      <td>\\N</td>\n",
              "      <td>\\N</td>\n",
              "      <td>\\N</td>\n",
              "      <td>\\N</td>\n",
              "      <td>\\N</td>\n",
              "      <td>\\N</td>\n",
              "      <td>\\N</td>\n",
              "      <td>\\N</td>\n",
              "    </tr>\n",
              "    <tr>\n",
              "      <th>4</th>\n",
              "      <td>5</td>\n",
              "      <td>2009</td>\n",
              "      <td>5</td>\n",
              "      <td>4</td>\n",
              "      <td>Spanish Grand Prix</td>\n",
              "      <td>2009-05-10</td>\n",
              "      <td>12:00:00</td>\n",
              "      <td>http://en.wikipedia.org/wiki/2009_Spanish_Gran...</td>\n",
              "      <td>\\N</td>\n",
              "      <td>\\N</td>\n",
              "      <td>\\N</td>\n",
              "      <td>\\N</td>\n",
              "      <td>\\N</td>\n",
              "      <td>\\N</td>\n",
              "      <td>\\N</td>\n",
              "      <td>\\N</td>\n",
              "      <td>\\N</td>\n",
              "      <td>\\N</td>\n",
              "    </tr>\n",
              "  </tbody>\n",
              "</table>\n",
              "</div>"
            ],
            "text/plain": [
              "   raceId  year  round  circuitId                   name        date  \\\n",
              "0       1  2009      1          1  Australian Grand Prix  2009-03-29   \n",
              "1       2  2009      2          2   Malaysian Grand Prix  2009-04-05   \n",
              "2       3  2009      3         17     Chinese Grand Prix  2009-04-19   \n",
              "3       4  2009      4          3     Bahrain Grand Prix  2009-04-26   \n",
              "4       5  2009      5          4     Spanish Grand Prix  2009-05-10   \n",
              "\n",
              "       time                                                url fp1_date  \\\n",
              "0  06:00:00  http://en.wikipedia.org/wiki/2009_Australian_G...       \\N   \n",
              "1  09:00:00  http://en.wikipedia.org/wiki/2009_Malaysian_Gr...       \\N   \n",
              "2  07:00:00  http://en.wikipedia.org/wiki/2009_Chinese_Gran...       \\N   \n",
              "3  12:00:00  http://en.wikipedia.org/wiki/2009_Bahrain_Gran...       \\N   \n",
              "4  12:00:00  http://en.wikipedia.org/wiki/2009_Spanish_Gran...       \\N   \n",
              "\n",
              "  fp1_time fp2_date fp2_time fp3_date fp3_time quali_date quali_time  \\\n",
              "0       \\N       \\N       \\N       \\N       \\N         \\N         \\N   \n",
              "1       \\N       \\N       \\N       \\N       \\N         \\N         \\N   \n",
              "2       \\N       \\N       \\N       \\N       \\N         \\N         \\N   \n",
              "3       \\N       \\N       \\N       \\N       \\N         \\N         \\N   \n",
              "4       \\N       \\N       \\N       \\N       \\N         \\N         \\N   \n",
              "\n",
              "  sprint_date sprint_time  \n",
              "0          \\N          \\N  \n",
              "1          \\N          \\N  \n",
              "2          \\N          \\N  \n",
              "3          \\N          \\N  \n",
              "4          \\N          \\N  "
            ]
          },
          "execution_count": 16,
          "metadata": {},
          "output_type": "execute_result"
        }
      ],
      "source": [
        "races.head()"
      ]
    },
    {
      "cell_type": "code",
      "execution_count": 17,
      "metadata": {},
      "outputs": [
        {
          "data": {
            "text/html": [
              "<div>\n",
              "<style scoped>\n",
              "    .dataframe tbody tr th:only-of-type {\n",
              "        vertical-align: middle;\n",
              "    }\n",
              "\n",
              "    .dataframe tbody tr th {\n",
              "        vertical-align: top;\n",
              "    }\n",
              "\n",
              "    .dataframe thead th {\n",
              "        text-align: right;\n",
              "    }\n",
              "</style>\n",
              "<table border=\"1\" class=\"dataframe\">\n",
              "  <thead>\n",
              "    <tr style=\"text-align: right;\">\n",
              "      <th></th>\n",
              "      <th>resultId</th>\n",
              "      <th>raceId</th>\n",
              "      <th>driverId</th>\n",
              "      <th>constructorId</th>\n",
              "      <th>number</th>\n",
              "      <th>grid</th>\n",
              "      <th>position</th>\n",
              "      <th>positionText</th>\n",
              "      <th>positionOrder</th>\n",
              "      <th>points</th>\n",
              "      <th>laps</th>\n",
              "      <th>time</th>\n",
              "      <th>milliseconds</th>\n",
              "      <th>fastestLap</th>\n",
              "      <th>rank</th>\n",
              "      <th>fastestLapTime</th>\n",
              "      <th>fastestLapSpeed</th>\n",
              "      <th>statusId</th>\n",
              "    </tr>\n",
              "  </thead>\n",
              "  <tbody>\n",
              "    <tr>\n",
              "      <th>0</th>\n",
              "      <td>1</td>\n",
              "      <td>18</td>\n",
              "      <td>1</td>\n",
              "      <td>1</td>\n",
              "      <td>22</td>\n",
              "      <td>1</td>\n",
              "      <td>1</td>\n",
              "      <td>1</td>\n",
              "      <td>1</td>\n",
              "      <td>10.0</td>\n",
              "      <td>58</td>\n",
              "      <td>1:34:50.616</td>\n",
              "      <td>5690616</td>\n",
              "      <td>39</td>\n",
              "      <td>2</td>\n",
              "      <td>1:27.452</td>\n",
              "      <td>218.300</td>\n",
              "      <td>1</td>\n",
              "    </tr>\n",
              "    <tr>\n",
              "      <th>1</th>\n",
              "      <td>2</td>\n",
              "      <td>18</td>\n",
              "      <td>2</td>\n",
              "      <td>2</td>\n",
              "      <td>3</td>\n",
              "      <td>5</td>\n",
              "      <td>2</td>\n",
              "      <td>2</td>\n",
              "      <td>2</td>\n",
              "      <td>8.0</td>\n",
              "      <td>58</td>\n",
              "      <td>+5.478</td>\n",
              "      <td>5696094</td>\n",
              "      <td>41</td>\n",
              "      <td>3</td>\n",
              "      <td>1:27.739</td>\n",
              "      <td>217.586</td>\n",
              "      <td>1</td>\n",
              "    </tr>\n",
              "    <tr>\n",
              "      <th>2</th>\n",
              "      <td>3</td>\n",
              "      <td>18</td>\n",
              "      <td>3</td>\n",
              "      <td>3</td>\n",
              "      <td>7</td>\n",
              "      <td>7</td>\n",
              "      <td>3</td>\n",
              "      <td>3</td>\n",
              "      <td>3</td>\n",
              "      <td>6.0</td>\n",
              "      <td>58</td>\n",
              "      <td>+8.163</td>\n",
              "      <td>5698779</td>\n",
              "      <td>41</td>\n",
              "      <td>5</td>\n",
              "      <td>1:28.090</td>\n",
              "      <td>216.719</td>\n",
              "      <td>1</td>\n",
              "    </tr>\n",
              "    <tr>\n",
              "      <th>3</th>\n",
              "      <td>4</td>\n",
              "      <td>18</td>\n",
              "      <td>4</td>\n",
              "      <td>4</td>\n",
              "      <td>5</td>\n",
              "      <td>11</td>\n",
              "      <td>4</td>\n",
              "      <td>4</td>\n",
              "      <td>4</td>\n",
              "      <td>5.0</td>\n",
              "      <td>58</td>\n",
              "      <td>+17.181</td>\n",
              "      <td>5707797</td>\n",
              "      <td>58</td>\n",
              "      <td>7</td>\n",
              "      <td>1:28.603</td>\n",
              "      <td>215.464</td>\n",
              "      <td>1</td>\n",
              "    </tr>\n",
              "    <tr>\n",
              "      <th>4</th>\n",
              "      <td>5</td>\n",
              "      <td>18</td>\n",
              "      <td>5</td>\n",
              "      <td>1</td>\n",
              "      <td>23</td>\n",
              "      <td>3</td>\n",
              "      <td>5</td>\n",
              "      <td>5</td>\n",
              "      <td>5</td>\n",
              "      <td>4.0</td>\n",
              "      <td>58</td>\n",
              "      <td>+18.014</td>\n",
              "      <td>5708630</td>\n",
              "      <td>43</td>\n",
              "      <td>1</td>\n",
              "      <td>1:27.418</td>\n",
              "      <td>218.385</td>\n",
              "      <td>1</td>\n",
              "    </tr>\n",
              "  </tbody>\n",
              "</table>\n",
              "</div>"
            ],
            "text/plain": [
              "   resultId  raceId  driverId  constructorId number  grid position  \\\n",
              "0         1      18         1              1     22     1        1   \n",
              "1         2      18         2              2      3     5        2   \n",
              "2         3      18         3              3      7     7        3   \n",
              "3         4      18         4              4      5    11        4   \n",
              "4         5      18         5              1     23     3        5   \n",
              "\n",
              "  positionText  positionOrder  points  laps         time milliseconds  \\\n",
              "0            1              1    10.0    58  1:34:50.616      5690616   \n",
              "1            2              2     8.0    58       +5.478      5696094   \n",
              "2            3              3     6.0    58       +8.163      5698779   \n",
              "3            4              4     5.0    58      +17.181      5707797   \n",
              "4            5              5     4.0    58      +18.014      5708630   \n",
              "\n",
              "  fastestLap rank fastestLapTime fastestLapSpeed  statusId  \n",
              "0         39    2       1:27.452         218.300         1  \n",
              "1         41    3       1:27.739         217.586         1  \n",
              "2         41    5       1:28.090         216.719         1  \n",
              "3         58    7       1:28.603         215.464         1  \n",
              "4         43    1       1:27.418         218.385         1  "
            ]
          },
          "execution_count": 17,
          "metadata": {},
          "output_type": "execute_result"
        }
      ],
      "source": [
        "results.head()"
      ]
    },
    {
      "cell_type": "code",
      "execution_count": 18,
      "metadata": {},
      "outputs": [
        {
          "data": {
            "text/plain": [
              "1      7083\n",
              "11     3850\n",
              "5      2011\n",
              "12     1593\n",
              "3      1044\n",
              "       ... \n",
              "59        1\n",
              "58        1\n",
              "102       1\n",
              "56        1\n",
              "92        1\n",
              "Name: statusId, Length: 137, dtype: int64"
            ]
          },
          "execution_count": 18,
          "metadata": {},
          "output_type": "execute_result"
        }
      ],
      "source": [
        "results.statusId.value_counts()"
      ]
    },
    {
      "cell_type": "code",
      "execution_count": 19,
      "metadata": {},
      "outputs": [
        {
          "data": {
            "text/html": [
              "<div>\n",
              "<style scoped>\n",
              "    .dataframe tbody tr th:only-of-type {\n",
              "        vertical-align: middle;\n",
              "    }\n",
              "\n",
              "    .dataframe tbody tr th {\n",
              "        vertical-align: top;\n",
              "    }\n",
              "\n",
              "    .dataframe thead th {\n",
              "        text-align: right;\n",
              "    }\n",
              "</style>\n",
              "<table border=\"1\" class=\"dataframe\">\n",
              "  <thead>\n",
              "    <tr style=\"text-align: right;\">\n",
              "      <th></th>\n",
              "      <th>statusId</th>\n",
              "      <th>status</th>\n",
              "    </tr>\n",
              "  </thead>\n",
              "  <tbody>\n",
              "    <tr>\n",
              "      <th>0</th>\n",
              "      <td>1</td>\n",
              "      <td>Finished</td>\n",
              "    </tr>\n",
              "    <tr>\n",
              "      <th>1</th>\n",
              "      <td>2</td>\n",
              "      <td>Disqualified</td>\n",
              "    </tr>\n",
              "    <tr>\n",
              "      <th>2</th>\n",
              "      <td>3</td>\n",
              "      <td>Accident</td>\n",
              "    </tr>\n",
              "    <tr>\n",
              "      <th>3</th>\n",
              "      <td>4</td>\n",
              "      <td>Collision</td>\n",
              "    </tr>\n",
              "    <tr>\n",
              "      <th>4</th>\n",
              "      <td>5</td>\n",
              "      <td>Engine</td>\n",
              "    </tr>\n",
              "    <tr>\n",
              "      <th>...</th>\n",
              "      <td>...</td>\n",
              "      <td>...</td>\n",
              "    </tr>\n",
              "    <tr>\n",
              "      <th>134</th>\n",
              "      <td>137</td>\n",
              "      <td>Damage</td>\n",
              "    </tr>\n",
              "    <tr>\n",
              "      <th>135</th>\n",
              "      <td>138</td>\n",
              "      <td>Debris</td>\n",
              "    </tr>\n",
              "    <tr>\n",
              "      <th>136</th>\n",
              "      <td>139</td>\n",
              "      <td>Illness</td>\n",
              "    </tr>\n",
              "    <tr>\n",
              "      <th>137</th>\n",
              "      <td>140</td>\n",
              "      <td>Undertray</td>\n",
              "    </tr>\n",
              "    <tr>\n",
              "      <th>138</th>\n",
              "      <td>141</td>\n",
              "      <td>Cooling system</td>\n",
              "    </tr>\n",
              "  </tbody>\n",
              "</table>\n",
              "<p>139 rows × 2 columns</p>\n",
              "</div>"
            ],
            "text/plain": [
              "     statusId          status\n",
              "0           1        Finished\n",
              "1           2    Disqualified\n",
              "2           3        Accident\n",
              "3           4       Collision\n",
              "4           5          Engine\n",
              "..        ...             ...\n",
              "134       137          Damage\n",
              "135       138          Debris\n",
              "136       139         Illness\n",
              "137       140       Undertray\n",
              "138       141  Cooling system\n",
              "\n",
              "[139 rows x 2 columns]"
            ]
          },
          "execution_count": 19,
          "metadata": {},
          "output_type": "execute_result"
        }
      ],
      "source": [
        "status"
      ]
    },
    {
      "cell_type": "code",
      "execution_count": 20,
      "metadata": {},
      "outputs": [],
      "source": [
        "finish_status=[1]\n",
        "finish_status.extend(list(range(11,20)))\n",
        "finish_status.extend([50,128,53,55,58,88,127,133,134])\n",
        "finish_status.extend(list(range(111,121)))\n",
        "finish_status.extend(list(range(122,126)))"
      ]
    },
    {
      "cell_type": "code",
      "execution_count": 21,
      "metadata": {},
      "outputs": [],
      "source": [
        "finish_status.sort()"
      ]
    },
    {
      "cell_type": "code",
      "execution_count": 22,
      "metadata": {},
      "outputs": [
        {
          "data": {
            "text/plain": [
              "[1,\n",
              " 11,\n",
              " 12,\n",
              " 13,\n",
              " 14,\n",
              " 15,\n",
              " 16,\n",
              " 17,\n",
              " 18,\n",
              " 19,\n",
              " 50,\n",
              " 53,\n",
              " 55,\n",
              " 58,\n",
              " 88,\n",
              " 111,\n",
              " 112,\n",
              " 113,\n",
              " 114,\n",
              " 115,\n",
              " 116,\n",
              " 117,\n",
              " 118,\n",
              " 119,\n",
              " 120,\n",
              " 122,\n",
              " 123,\n",
              " 124,\n",
              " 125,\n",
              " 127,\n",
              " 128,\n",
              " 133,\n",
              " 134]"
            ]
          },
          "execution_count": 22,
          "metadata": {},
          "output_type": "execute_result"
        }
      ],
      "source": [
        "finish_status"
      ]
    },
    {
      "cell_type": "code",
      "execution_count": 23,
      "metadata": {},
      "outputs": [],
      "source": [
        "results['finish_status']=results['statusId'].apply(lambda x: 'Finished' if x in finish_status else 'DNF')"
      ]
    },
    {
      "cell_type": "code",
      "execution_count": 24,
      "metadata": {},
      "outputs": [
        {
          "data": {
            "text/plain": [
              "Finished    14345\n",
              "DNF         11495\n",
              "Name: finish_status, dtype: int64"
            ]
          },
          "execution_count": 24,
          "metadata": {},
          "output_type": "execute_result"
        }
      ],
      "source": [
        "results['finish_status'].value_counts()"
      ]
    },
    {
      "cell_type": "code",
      "execution_count": 25,
      "metadata": {},
      "outputs": [
        {
          "data": {
            "text/html": [
              "<div>\n",
              "<style scoped>\n",
              "    .dataframe tbody tr th:only-of-type {\n",
              "        vertical-align: middle;\n",
              "    }\n",
              "\n",
              "    .dataframe tbody tr th {\n",
              "        vertical-align: top;\n",
              "    }\n",
              "\n",
              "    .dataframe thead th {\n",
              "        text-align: right;\n",
              "    }\n",
              "</style>\n",
              "<table border=\"1\" class=\"dataframe\">\n",
              "  <thead>\n",
              "    <tr style=\"text-align: right;\">\n",
              "      <th></th>\n",
              "      <th>resultId</th>\n",
              "      <th>raceId</th>\n",
              "      <th>driverId</th>\n",
              "      <th>constructorId</th>\n",
              "      <th>number</th>\n",
              "      <th>grid</th>\n",
              "      <th>position</th>\n",
              "      <th>positionText</th>\n",
              "      <th>positionOrder</th>\n",
              "      <th>points</th>\n",
              "      <th>laps</th>\n",
              "      <th>time</th>\n",
              "      <th>milliseconds</th>\n",
              "      <th>fastestLap</th>\n",
              "      <th>rank</th>\n",
              "      <th>fastestLapTime</th>\n",
              "      <th>fastestLapSpeed</th>\n",
              "      <th>statusId</th>\n",
              "      <th>finish_status</th>\n",
              "    </tr>\n",
              "  </thead>\n",
              "  <tbody>\n",
              "    <tr>\n",
              "      <th>6</th>\n",
              "      <td>7</td>\n",
              "      <td>18</td>\n",
              "      <td>7</td>\n",
              "      <td>5</td>\n",
              "      <td>14</td>\n",
              "      <td>17</td>\n",
              "      <td>7</td>\n",
              "      <td>7</td>\n",
              "      <td>7</td>\n",
              "      <td>2.0</td>\n",
              "      <td>55</td>\n",
              "      <td>\\N</td>\n",
              "      <td>\\N</td>\n",
              "      <td>22</td>\n",
              "      <td>12</td>\n",
              "      <td>1:29.534</td>\n",
              "      <td>213.224</td>\n",
              "      <td>5</td>\n",
              "      <td>DNF</td>\n",
              "    </tr>\n",
              "    <tr>\n",
              "      <th>7</th>\n",
              "      <td>8</td>\n",
              "      <td>18</td>\n",
              "      <td>8</td>\n",
              "      <td>6</td>\n",
              "      <td>1</td>\n",
              "      <td>15</td>\n",
              "      <td>8</td>\n",
              "      <td>8</td>\n",
              "      <td>8</td>\n",
              "      <td>1.0</td>\n",
              "      <td>53</td>\n",
              "      <td>\\N</td>\n",
              "      <td>\\N</td>\n",
              "      <td>20</td>\n",
              "      <td>4</td>\n",
              "      <td>1:27.903</td>\n",
              "      <td>217.180</td>\n",
              "      <td>5</td>\n",
              "      <td>DNF</td>\n",
              "    </tr>\n",
              "    <tr>\n",
              "      <th>8</th>\n",
              "      <td>9</td>\n",
              "      <td>18</td>\n",
              "      <td>9</td>\n",
              "      <td>2</td>\n",
              "      <td>4</td>\n",
              "      <td>2</td>\n",
              "      <td>\\N</td>\n",
              "      <td>R</td>\n",
              "      <td>9</td>\n",
              "      <td>0.0</td>\n",
              "      <td>47</td>\n",
              "      <td>\\N</td>\n",
              "      <td>\\N</td>\n",
              "      <td>15</td>\n",
              "      <td>9</td>\n",
              "      <td>1:28.753</td>\n",
              "      <td>215.100</td>\n",
              "      <td>4</td>\n",
              "      <td>DNF</td>\n",
              "    </tr>\n",
              "    <tr>\n",
              "      <th>9</th>\n",
              "      <td>10</td>\n",
              "      <td>18</td>\n",
              "      <td>10</td>\n",
              "      <td>7</td>\n",
              "      <td>12</td>\n",
              "      <td>18</td>\n",
              "      <td>\\N</td>\n",
              "      <td>R</td>\n",
              "      <td>10</td>\n",
              "      <td>0.0</td>\n",
              "      <td>43</td>\n",
              "      <td>\\N</td>\n",
              "      <td>\\N</td>\n",
              "      <td>23</td>\n",
              "      <td>13</td>\n",
              "      <td>1:29.558</td>\n",
              "      <td>213.166</td>\n",
              "      <td>3</td>\n",
              "      <td>DNF</td>\n",
              "    </tr>\n",
              "    <tr>\n",
              "      <th>10</th>\n",
              "      <td>11</td>\n",
              "      <td>18</td>\n",
              "      <td>11</td>\n",
              "      <td>8</td>\n",
              "      <td>18</td>\n",
              "      <td>19</td>\n",
              "      <td>\\N</td>\n",
              "      <td>R</td>\n",
              "      <td>11</td>\n",
              "      <td>0.0</td>\n",
              "      <td>32</td>\n",
              "      <td>\\N</td>\n",
              "      <td>\\N</td>\n",
              "      <td>24</td>\n",
              "      <td>15</td>\n",
              "      <td>1:30.892</td>\n",
              "      <td>210.038</td>\n",
              "      <td>7</td>\n",
              "      <td>DNF</td>\n",
              "    </tr>\n",
              "    <tr>\n",
              "      <th>...</th>\n",
              "      <td>...</td>\n",
              "      <td>...</td>\n",
              "      <td>...</td>\n",
              "      <td>...</td>\n",
              "      <td>...</td>\n",
              "      <td>...</td>\n",
              "      <td>...</td>\n",
              "      <td>...</td>\n",
              "      <td>...</td>\n",
              "      <td>...</td>\n",
              "      <td>...</td>\n",
              "      <td>...</td>\n",
              "      <td>...</td>\n",
              "      <td>...</td>\n",
              "      <td>...</td>\n",
              "      <td>...</td>\n",
              "      <td>...</td>\n",
              "      <td>...</td>\n",
              "      <td>...</td>\n",
              "    </tr>\n",
              "    <tr>\n",
              "      <th>25818</th>\n",
              "      <td>25824</td>\n",
              "      <td>1095</td>\n",
              "      <td>825</td>\n",
              "      <td>210</td>\n",
              "      <td>20</td>\n",
              "      <td>8</td>\n",
              "      <td>\\N</td>\n",
              "      <td>R</td>\n",
              "      <td>19</td>\n",
              "      <td>0.0</td>\n",
              "      <td>0</td>\n",
              "      <td>\\N</td>\n",
              "      <td>\\N</td>\n",
              "      <td>\\N</td>\n",
              "      <td>0</td>\n",
              "      <td>\\N</td>\n",
              "      <td>\\N</td>\n",
              "      <td>4</td>\n",
              "      <td>DNF</td>\n",
              "    </tr>\n",
              "    <tr>\n",
              "      <th>25819</th>\n",
              "      <td>25825</td>\n",
              "      <td>1095</td>\n",
              "      <td>817</td>\n",
              "      <td>1</td>\n",
              "      <td>3</td>\n",
              "      <td>11</td>\n",
              "      <td>\\N</td>\n",
              "      <td>R</td>\n",
              "      <td>20</td>\n",
              "      <td>0.0</td>\n",
              "      <td>0</td>\n",
              "      <td>\\N</td>\n",
              "      <td>\\N</td>\n",
              "      <td>\\N</td>\n",
              "      <td>0</td>\n",
              "      <td>\\N</td>\n",
              "      <td>\\N</td>\n",
              "      <td>4</td>\n",
              "      <td>DNF</td>\n",
              "    </tr>\n",
              "    <tr>\n",
              "      <th>25837</th>\n",
              "      <td>25843</td>\n",
              "      <td>1096</td>\n",
              "      <td>1</td>\n",
              "      <td>131</td>\n",
              "      <td>44</td>\n",
              "      <td>5</td>\n",
              "      <td>18</td>\n",
              "      <td>18</td>\n",
              "      <td>18</td>\n",
              "      <td>0.0</td>\n",
              "      <td>55</td>\n",
              "      <td>\\N</td>\n",
              "      <td>\\N</td>\n",
              "      <td>42</td>\n",
              "      <td>11</td>\n",
              "      <td>1:29.788</td>\n",
              "      <td>211.738</td>\n",
              "      <td>9</td>\n",
              "      <td>DNF</td>\n",
              "    </tr>\n",
              "    <tr>\n",
              "      <th>25838</th>\n",
              "      <td>25844</td>\n",
              "      <td>1096</td>\n",
              "      <td>849</td>\n",
              "      <td>3</td>\n",
              "      <td>6</td>\n",
              "      <td>20</td>\n",
              "      <td>19</td>\n",
              "      <td>19</td>\n",
              "      <td>19</td>\n",
              "      <td>0.0</td>\n",
              "      <td>55</td>\n",
              "      <td>\\N</td>\n",
              "      <td>\\N</td>\n",
              "      <td>45</td>\n",
              "      <td>14</td>\n",
              "      <td>1:30.309</td>\n",
              "      <td>210.517</td>\n",
              "      <td>130</td>\n",
              "      <td>DNF</td>\n",
              "    </tr>\n",
              "    <tr>\n",
              "      <th>25839</th>\n",
              "      <td>25845</td>\n",
              "      <td>1096</td>\n",
              "      <td>4</td>\n",
              "      <td>214</td>\n",
              "      <td>14</td>\n",
              "      <td>10</td>\n",
              "      <td>\\N</td>\n",
              "      <td>R</td>\n",
              "      <td>20</td>\n",
              "      <td>0.0</td>\n",
              "      <td>27</td>\n",
              "      <td>\\N</td>\n",
              "      <td>\\N</td>\n",
              "      <td>24</td>\n",
              "      <td>17</td>\n",
              "      <td>1:30.579</td>\n",
              "      <td>209.889</td>\n",
              "      <td>47</td>\n",
              "      <td>DNF</td>\n",
              "    </tr>\n",
              "  </tbody>\n",
              "</table>\n",
              "<p>11495 rows × 19 columns</p>\n",
              "</div>"
            ],
            "text/plain": [
              "       resultId  raceId  driverId  constructorId number  grid position  \\\n",
              "6             7      18         7              5     14    17        7   \n",
              "7             8      18         8              6      1    15        8   \n",
              "8             9      18         9              2      4     2       \\N   \n",
              "9            10      18        10              7     12    18       \\N   \n",
              "10           11      18        11              8     18    19       \\N   \n",
              "...         ...     ...       ...            ...    ...   ...      ...   \n",
              "25818     25824    1095       825            210     20     8       \\N   \n",
              "25819     25825    1095       817              1      3    11       \\N   \n",
              "25837     25843    1096         1            131     44     5       18   \n",
              "25838     25844    1096       849              3      6    20       19   \n",
              "25839     25845    1096         4            214     14    10       \\N   \n",
              "\n",
              "      positionText  positionOrder  points  laps time milliseconds fastestLap  \\\n",
              "6                7              7     2.0    55   \\N           \\N         22   \n",
              "7                8              8     1.0    53   \\N           \\N         20   \n",
              "8                R              9     0.0    47   \\N           \\N         15   \n",
              "9                R             10     0.0    43   \\N           \\N         23   \n",
              "10               R             11     0.0    32   \\N           \\N         24   \n",
              "...            ...            ...     ...   ...  ...          ...        ...   \n",
              "25818            R             19     0.0     0   \\N           \\N         \\N   \n",
              "25819            R             20     0.0     0   \\N           \\N         \\N   \n",
              "25837           18             18     0.0    55   \\N           \\N         42   \n",
              "25838           19             19     0.0    55   \\N           \\N         45   \n",
              "25839            R             20     0.0    27   \\N           \\N         24   \n",
              "\n",
              "      rank fastestLapTime fastestLapSpeed  statusId finish_status  \n",
              "6       12       1:29.534         213.224         5           DNF  \n",
              "7        4       1:27.903         217.180         5           DNF  \n",
              "8        9       1:28.753         215.100         4           DNF  \n",
              "9       13       1:29.558         213.166         3           DNF  \n",
              "10      15       1:30.892         210.038         7           DNF  \n",
              "...    ...            ...             ...       ...           ...  \n",
              "25818    0             \\N              \\N         4           DNF  \n",
              "25819    0             \\N              \\N         4           DNF  \n",
              "25837   11       1:29.788         211.738         9           DNF  \n",
              "25838   14       1:30.309         210.517       130           DNF  \n",
              "25839   17       1:30.579         209.889        47           DNF  \n",
              "\n",
              "[11495 rows x 19 columns]"
            ]
          },
          "execution_count": 25,
          "metadata": {},
          "output_type": "execute_result"
        }
      ],
      "source": [
        "results[results['finish_status']=='DNF']"
      ]
    },
    {
      "cell_type": "code",
      "execution_count": 26,
      "metadata": {},
      "outputs": [
        {
          "data": {
            "text/plain": [
              "{3,\n",
              " 4,\n",
              " 5,\n",
              " 6,\n",
              " 7,\n",
              " 8,\n",
              " 9,\n",
              " 10,\n",
              " 14,\n",
              " 20,\n",
              " 22,\n",
              " 23,\n",
              " 24,\n",
              " 25,\n",
              " 26,\n",
              " 27,\n",
              " 29,\n",
              " 30,\n",
              " 31,\n",
              " 32,\n",
              " 33,\n",
              " 34,\n",
              " 36,\n",
              " 37,\n",
              " 38,\n",
              " 39,\n",
              " 40,\n",
              " 41,\n",
              " 42,\n",
              " 43,\n",
              " 44,\n",
              " 45,\n",
              " 46,\n",
              " 48,\n",
              " 49,\n",
              " 51,\n",
              " 54,\n",
              " 60,\n",
              " 61,\n",
              " 65,\n",
              " 66,\n",
              " 67,\n",
              " 68,\n",
              " 69,\n",
              " 73,\n",
              " 75,\n",
              " 76,\n",
              " 80,\n",
              " 82,\n",
              " 84,\n",
              " 86,\n",
              " 88,\n",
              " 91,\n",
              " 95,\n",
              " 98,\n",
              " 99,\n",
              " 100,\n",
              " 101,\n",
              " 104,\n",
              " 106,\n",
              " 108,\n",
              " 109,\n",
              " 121,\n",
              " 130,\n",
              " 131,\n",
              " 132,\n",
              " 139}"
            ]
          },
          "execution_count": 26,
          "metadata": {},
          "output_type": "execute_result"
        }
      ],
      "source": [
        "set(results[results['positionText']=='R'].statusId.unique()).intersection(set(results[results['positionText']!='R'].statusId.unique()))"
      ]
    },
    {
      "cell_type": "code",
      "execution_count": 27,
      "metadata": {},
      "outputs": [],
      "source": [
        "dnf_results=results[results['positionText']=='R']"
      ]
    },
    {
      "cell_type": "code",
      "execution_count": 28,
      "metadata": {},
      "outputs": [
        {
          "data": {
            "text/html": [
              "<div>\n",
              "<style scoped>\n",
              "    .dataframe tbody tr th:only-of-type {\n",
              "        vertical-align: middle;\n",
              "    }\n",
              "\n",
              "    .dataframe tbody tr th {\n",
              "        vertical-align: top;\n",
              "    }\n",
              "\n",
              "    .dataframe thead th {\n",
              "        text-align: right;\n",
              "    }\n",
              "</style>\n",
              "<table border=\"1\" class=\"dataframe\">\n",
              "  <thead>\n",
              "    <tr style=\"text-align: right;\">\n",
              "      <th></th>\n",
              "      <th>raceId</th>\n",
              "      <th>year</th>\n",
              "      <th>round</th>\n",
              "      <th>circuitId</th>\n",
              "      <th>name</th>\n",
              "      <th>date</th>\n",
              "      <th>time</th>\n",
              "      <th>url</th>\n",
              "      <th>fp1_date</th>\n",
              "      <th>fp1_time</th>\n",
              "      <th>fp2_date</th>\n",
              "      <th>fp2_time</th>\n",
              "      <th>fp3_date</th>\n",
              "      <th>fp3_time</th>\n",
              "      <th>quali_date</th>\n",
              "      <th>quali_time</th>\n",
              "      <th>sprint_date</th>\n",
              "      <th>sprint_time</th>\n",
              "    </tr>\n",
              "  </thead>\n",
              "  <tbody>\n",
              "    <tr>\n",
              "      <th>0</th>\n",
              "      <td>1</td>\n",
              "      <td>2009</td>\n",
              "      <td>1</td>\n",
              "      <td>1</td>\n",
              "      <td>Australian Grand Prix</td>\n",
              "      <td>2009-03-29</td>\n",
              "      <td>06:00:00</td>\n",
              "      <td>http://en.wikipedia.org/wiki/2009_Australian_G...</td>\n",
              "      <td>\\N</td>\n",
              "      <td>\\N</td>\n",
              "      <td>\\N</td>\n",
              "      <td>\\N</td>\n",
              "      <td>\\N</td>\n",
              "      <td>\\N</td>\n",
              "      <td>\\N</td>\n",
              "      <td>\\N</td>\n",
              "      <td>\\N</td>\n",
              "      <td>\\N</td>\n",
              "    </tr>\n",
              "    <tr>\n",
              "      <th>1</th>\n",
              "      <td>2</td>\n",
              "      <td>2009</td>\n",
              "      <td>2</td>\n",
              "      <td>2</td>\n",
              "      <td>Malaysian Grand Prix</td>\n",
              "      <td>2009-04-05</td>\n",
              "      <td>09:00:00</td>\n",
              "      <td>http://en.wikipedia.org/wiki/2009_Malaysian_Gr...</td>\n",
              "      <td>\\N</td>\n",
              "      <td>\\N</td>\n",
              "      <td>\\N</td>\n",
              "      <td>\\N</td>\n",
              "      <td>\\N</td>\n",
              "      <td>\\N</td>\n",
              "      <td>\\N</td>\n",
              "      <td>\\N</td>\n",
              "      <td>\\N</td>\n",
              "      <td>\\N</td>\n",
              "    </tr>\n",
              "    <tr>\n",
              "      <th>2</th>\n",
              "      <td>3</td>\n",
              "      <td>2009</td>\n",
              "      <td>3</td>\n",
              "      <td>17</td>\n",
              "      <td>Chinese Grand Prix</td>\n",
              "      <td>2009-04-19</td>\n",
              "      <td>07:00:00</td>\n",
              "      <td>http://en.wikipedia.org/wiki/2009_Chinese_Gran...</td>\n",
              "      <td>\\N</td>\n",
              "      <td>\\N</td>\n",
              "      <td>\\N</td>\n",
              "      <td>\\N</td>\n",
              "      <td>\\N</td>\n",
              "      <td>\\N</td>\n",
              "      <td>\\N</td>\n",
              "      <td>\\N</td>\n",
              "      <td>\\N</td>\n",
              "      <td>\\N</td>\n",
              "    </tr>\n",
              "    <tr>\n",
              "      <th>3</th>\n",
              "      <td>4</td>\n",
              "      <td>2009</td>\n",
              "      <td>4</td>\n",
              "      <td>3</td>\n",
              "      <td>Bahrain Grand Prix</td>\n",
              "      <td>2009-04-26</td>\n",
              "      <td>12:00:00</td>\n",
              "      <td>http://en.wikipedia.org/wiki/2009_Bahrain_Gran...</td>\n",
              "      <td>\\N</td>\n",
              "      <td>\\N</td>\n",
              "      <td>\\N</td>\n",
              "      <td>\\N</td>\n",
              "      <td>\\N</td>\n",
              "      <td>\\N</td>\n",
              "      <td>\\N</td>\n",
              "      <td>\\N</td>\n",
              "      <td>\\N</td>\n",
              "      <td>\\N</td>\n",
              "    </tr>\n",
              "    <tr>\n",
              "      <th>4</th>\n",
              "      <td>5</td>\n",
              "      <td>2009</td>\n",
              "      <td>5</td>\n",
              "      <td>4</td>\n",
              "      <td>Spanish Grand Prix</td>\n",
              "      <td>2009-05-10</td>\n",
              "      <td>12:00:00</td>\n",
              "      <td>http://en.wikipedia.org/wiki/2009_Spanish_Gran...</td>\n",
              "      <td>\\N</td>\n",
              "      <td>\\N</td>\n",
              "      <td>\\N</td>\n",
              "      <td>\\N</td>\n",
              "      <td>\\N</td>\n",
              "      <td>\\N</td>\n",
              "      <td>\\N</td>\n",
              "      <td>\\N</td>\n",
              "      <td>\\N</td>\n",
              "      <td>\\N</td>\n",
              "    </tr>\n",
              "  </tbody>\n",
              "</table>\n",
              "</div>"
            ],
            "text/plain": [
              "   raceId  year  round  circuitId                   name        date  \\\n",
              "0       1  2009      1          1  Australian Grand Prix  2009-03-29   \n",
              "1       2  2009      2          2   Malaysian Grand Prix  2009-04-05   \n",
              "2       3  2009      3         17     Chinese Grand Prix  2009-04-19   \n",
              "3       4  2009      4          3     Bahrain Grand Prix  2009-04-26   \n",
              "4       5  2009      5          4     Spanish Grand Prix  2009-05-10   \n",
              "\n",
              "       time                                                url fp1_date  \\\n",
              "0  06:00:00  http://en.wikipedia.org/wiki/2009_Australian_G...       \\N   \n",
              "1  09:00:00  http://en.wikipedia.org/wiki/2009_Malaysian_Gr...       \\N   \n",
              "2  07:00:00  http://en.wikipedia.org/wiki/2009_Chinese_Gran...       \\N   \n",
              "3  12:00:00  http://en.wikipedia.org/wiki/2009_Bahrain_Gran...       \\N   \n",
              "4  12:00:00  http://en.wikipedia.org/wiki/2009_Spanish_Gran...       \\N   \n",
              "\n",
              "  fp1_time fp2_date fp2_time fp3_date fp3_time quali_date quali_time  \\\n",
              "0       \\N       \\N       \\N       \\N       \\N         \\N         \\N   \n",
              "1       \\N       \\N       \\N       \\N       \\N         \\N         \\N   \n",
              "2       \\N       \\N       \\N       \\N       \\N         \\N         \\N   \n",
              "3       \\N       \\N       \\N       \\N       \\N         \\N         \\N   \n",
              "4       \\N       \\N       \\N       \\N       \\N         \\N         \\N   \n",
              "\n",
              "  sprint_date sprint_time  \n",
              "0          \\N          \\N  \n",
              "1          \\N          \\N  \n",
              "2          \\N          \\N  \n",
              "3          \\N          \\N  \n",
              "4          \\N          \\N  "
            ]
          },
          "execution_count": 28,
          "metadata": {},
          "output_type": "execute_result"
        }
      ],
      "source": [
        "races.head()"
      ]
    },
    {
      "cell_type": "code",
      "execution_count": 29,
      "metadata": {},
      "outputs": [
        {
          "data": {
            "text/plain": [
              "(8805, 19)"
            ]
          },
          "execution_count": 29,
          "metadata": {},
          "output_type": "execute_result"
        }
      ],
      "source": [
        "dnf_results.shape"
      ]
    },
    {
      "cell_type": "code",
      "execution_count": 30,
      "metadata": {},
      "outputs": [],
      "source": [
        "dnf_results_races=dnf_results.merge(races[['raceId','circuitId','year']],on='raceId',how='left')"
      ]
    },
    {
      "cell_type": "code",
      "execution_count": 31,
      "metadata": {},
      "outputs": [
        {
          "data": {
            "text/plain": [
              "Index(['resultId', 'raceId', 'driverId', 'constructorId', 'number', 'grid',\n",
              "       'position', 'positionText', 'positionOrder', 'points', 'laps', 'time',\n",
              "       'milliseconds', 'fastestLap', 'rank', 'fastestLapTime',\n",
              "       'fastestLapSpeed', 'statusId', 'finish_status', 'circuitId', 'year'],\n",
              "      dtype='object')"
            ]
          },
          "execution_count": 31,
          "metadata": {},
          "output_type": "execute_result"
        }
      ],
      "source": [
        "dnf_results_races.columns"
      ]
    },
    {
      "cell_type": "code",
      "execution_count": 32,
      "metadata": {},
      "outputs": [],
      "source": [
        "dnf_results_races_ckts=dnf_results_races.merge(circuits,on='circuitId',how='left')"
      ]
    },
    {
      "cell_type": "code",
      "execution_count": 33,
      "metadata": {},
      "outputs": [
        {
          "name": "stdout",
          "output_type": "stream",
          "text": [
            "<class 'pandas.core.frame.DataFrame'>\n",
            "Int64Index: 8805 entries, 0 to 8804\n",
            "Data columns (total 29 columns):\n",
            " #   Column           Non-Null Count  Dtype  \n",
            "---  ------           --------------  -----  \n",
            " 0   resultId         8805 non-null   int64  \n",
            " 1   raceId           8805 non-null   int64  \n",
            " 2   driverId         8805 non-null   int64  \n",
            " 3   constructorId    8805 non-null   int64  \n",
            " 4   number           8805 non-null   object \n",
            " 5   grid             8805 non-null   int64  \n",
            " 6   position         8805 non-null   object \n",
            " 7   positionText     8805 non-null   object \n",
            " 8   positionOrder    8805 non-null   int64  \n",
            " 9   points           8805 non-null   float64\n",
            " 10  laps             8805 non-null   int64  \n",
            " 11  time             8805 non-null   object \n",
            " 12  milliseconds     8805 non-null   object \n",
            " 13  fastestLap       8805 non-null   object \n",
            " 14  rank             8805 non-null   object \n",
            " 15  fastestLapTime   8805 non-null   object \n",
            " 16  fastestLapSpeed  8805 non-null   object \n",
            " 17  statusId         8805 non-null   int64  \n",
            " 18  finish_status    8805 non-null   object \n",
            " 19  circuitId        8805 non-null   int64  \n",
            " 20  year             8805 non-null   int64  \n",
            " 21  circuitRef       8805 non-null   object \n",
            " 22  name             8805 non-null   object \n",
            " 23  location         8805 non-null   object \n",
            " 24  country          8805 non-null   object \n",
            " 25  lat              8805 non-null   float64\n",
            " 26  lng              8805 non-null   float64\n",
            " 27  alt              8805 non-null   object \n",
            " 28  url              8805 non-null   object \n",
            "dtypes: float64(3), int64(10), object(16)\n",
            "memory usage: 2.0+ MB\n"
          ]
        }
      ],
      "source": [
        "dnf_results_races_ckts.info()"
      ]
    },
    {
      "cell_type": "code",
      "execution_count": 34,
      "metadata": {},
      "outputs": [],
      "source": [
        "num_dnfs=dnf_results_races_ckts.groupby(['name']).count()[['resultId']].sort_values(by='resultId',ascending=False).reset_index()"
      ]
    },
    {
      "cell_type": "code",
      "execution_count": 35,
      "metadata": {},
      "outputs": [
        {
          "data": {
            "text/html": [
              "<div>\n",
              "<style scoped>\n",
              "    .dataframe tbody tr th:only-of-type {\n",
              "        vertical-align: middle;\n",
              "    }\n",
              "\n",
              "    .dataframe tbody tr th {\n",
              "        vertical-align: top;\n",
              "    }\n",
              "\n",
              "    .dataframe thead th {\n",
              "        text-align: right;\n",
              "    }\n",
              "</style>\n",
              "<table border=\"1\" class=\"dataframe\">\n",
              "  <thead>\n",
              "    <tr style=\"text-align: right;\">\n",
              "      <th></th>\n",
              "      <th>name</th>\n",
              "      <th>resultId</th>\n",
              "    </tr>\n",
              "  </thead>\n",
              "  <tbody>\n",
              "    <tr>\n",
              "      <th>0</th>\n",
              "      <td>Autodromo Nazionale di Monza</td>\n",
              "      <td>643</td>\n",
              "    </tr>\n",
              "    <tr>\n",
              "      <th>1</th>\n",
              "      <td>Circuit de Monaco</td>\n",
              "      <td>608</td>\n",
              "    </tr>\n",
              "    <tr>\n",
              "      <th>2</th>\n",
              "      <td>Silverstone Circuit</td>\n",
              "      <td>453</td>\n",
              "    </tr>\n",
              "    <tr>\n",
              "      <th>3</th>\n",
              "      <td>Circuit de Spa-Francorchamps</td>\n",
              "      <td>393</td>\n",
              "    </tr>\n",
              "    <tr>\n",
              "      <th>4</th>\n",
              "      <td>Nürburgring</td>\n",
              "      <td>379</td>\n",
              "    </tr>\n",
              "    <tr>\n",
              "      <th>...</th>\n",
              "      <td>...</td>\n",
              "      <td>...</td>\n",
              "    </tr>\n",
              "    <tr>\n",
              "      <th>71</th>\n",
              "      <td>Riverside International Raceway</td>\n",
              "      <td>7</td>\n",
              "    </tr>\n",
              "    <tr>\n",
              "      <th>72</th>\n",
              "      <td>Monsanto Park Circuit</td>\n",
              "      <td>6</td>\n",
              "    </tr>\n",
              "    <tr>\n",
              "      <th>73</th>\n",
              "      <td>Miami International Autodrome</td>\n",
              "      <td>3</td>\n",
              "    </tr>\n",
              "    <tr>\n",
              "      <th>74</th>\n",
              "      <td>Autódromo Internacional do Algarve</td>\n",
              "      <td>2</td>\n",
              "    </tr>\n",
              "    <tr>\n",
              "      <th>75</th>\n",
              "      <td>Losail International Circuit</td>\n",
              "      <td>2</td>\n",
              "    </tr>\n",
              "  </tbody>\n",
              "</table>\n",
              "<p>76 rows × 2 columns</p>\n",
              "</div>"
            ],
            "text/plain": [
              "                                  name  resultId\n",
              "0         Autodromo Nazionale di Monza       643\n",
              "1                    Circuit de Monaco       608\n",
              "2                  Silverstone Circuit       453\n",
              "3         Circuit de Spa-Francorchamps       393\n",
              "4                          Nürburgring       379\n",
              "..                                 ...       ...\n",
              "71     Riverside International Raceway         7\n",
              "72               Monsanto Park Circuit         6\n",
              "73       Miami International Autodrome         3\n",
              "74  Autódromo Internacional do Algarve         2\n",
              "75        Losail International Circuit         2\n",
              "\n",
              "[76 rows x 2 columns]"
            ]
          },
          "execution_count": 35,
          "metadata": {},
          "output_type": "execute_result"
        }
      ],
      "source": [
        "num_dnfs"
      ]
    },
    {
      "cell_type": "code",
      "execution_count": 36,
      "metadata": {},
      "outputs": [],
      "source": [
        "num_races=races.groupby(['circuitId']).count()[['raceId']].reset_index().merge(circuits[['circuitId','name']],on='circuitId',how='left')[['name','raceId']]"
      ]
    },
    {
      "cell_type": "code",
      "execution_count": 37,
      "metadata": {},
      "outputs": [],
      "source": [
        "num_dnfs=num_dnfs.merge(num_races,on='name',how='inner')"
      ]
    },
    {
      "cell_type": "code",
      "execution_count": 38,
      "metadata": {},
      "outputs": [
        {
          "data": {
            "text/plain": [
              "(76, 3)"
            ]
          },
          "execution_count": 38,
          "metadata": {},
          "output_type": "execute_result"
        }
      ],
      "source": [
        "num_dnfs.shape"
      ]
    },
    {
      "cell_type": "code",
      "execution_count": 39,
      "metadata": {},
      "outputs": [],
      "source": [
        "num_dnfs['dnf_rate']=num_dnfs['resultId']/num_dnfs['raceId']"
      ]
    },
    {
      "cell_type": "code",
      "execution_count": 40,
      "metadata": {},
      "outputs": [],
      "source": [
        "num_dnfs=num_dnfs.sort_values(by='dnf_rate',ascending=False).rename({'resultId':'dnf','raceId':'races'},axis=1)"
      ]
    },
    {
      "cell_type": "code",
      "execution_count": 41,
      "metadata": {},
      "outputs": [
        {
          "data": {
            "text/html": [
              "<div>\n",
              "<style scoped>\n",
              "    .dataframe tbody tr th:only-of-type {\n",
              "        vertical-align: middle;\n",
              "    }\n",
              "\n",
              "    .dataframe tbody tr th {\n",
              "        vertical-align: top;\n",
              "    }\n",
              "\n",
              "    .dataframe thead th {\n",
              "        text-align: right;\n",
              "    }\n",
              "</style>\n",
              "<table border=\"1\" class=\"dataframe\">\n",
              "  <thead>\n",
              "    <tr style=\"text-align: right;\">\n",
              "      <th></th>\n",
              "      <th>name</th>\n",
              "      <th>dnf</th>\n",
              "      <th>races</th>\n",
              "      <th>dnf_rate</th>\n",
              "    </tr>\n",
              "  </thead>\n",
              "  <tbody>\n",
              "    <tr>\n",
              "      <th>58</th>\n",
              "      <td>Fair Park</td>\n",
              "      <td>16</td>\n",
              "      <td>1</td>\n",
              "      <td>16.000000</td>\n",
              "    </tr>\n",
              "    <tr>\n",
              "      <th>28</th>\n",
              "      <td>Detroit Street Circuit</td>\n",
              "      <td>105</td>\n",
              "      <td>7</td>\n",
              "      <td>15.000000</td>\n",
              "    </tr>\n",
              "    <tr>\n",
              "      <th>59</th>\n",
              "      <td>Donington Park</td>\n",
              "      <td>14</td>\n",
              "      <td>1</td>\n",
              "      <td>14.000000</td>\n",
              "    </tr>\n",
              "    <tr>\n",
              "      <th>42</th>\n",
              "      <td>Phoenix street circuit</td>\n",
              "      <td>42</td>\n",
              "      <td>3</td>\n",
              "      <td>14.000000</td>\n",
              "    </tr>\n",
              "    <tr>\n",
              "      <th>22</th>\n",
              "      <td>Adelaide Street Circuit</td>\n",
              "      <td>147</td>\n",
              "      <td>11</td>\n",
              "      <td>13.363636</td>\n",
              "    </tr>\n",
              "    <tr>\n",
              "      <th>...</th>\n",
              "      <td>...</td>\n",
              "      <td>...</td>\n",
              "      <td>...</td>\n",
              "      <td>...</td>\n",
              "    </tr>\n",
              "    <tr>\n",
              "      <th>43</th>\n",
              "      <td>Yas Marina Circuit</td>\n",
              "      <td>40</td>\n",
              "      <td>15</td>\n",
              "      <td>2.666667</td>\n",
              "    </tr>\n",
              "    <tr>\n",
              "      <th>61</th>\n",
              "      <td>Valencia Street Circuit</td>\n",
              "      <td>12</td>\n",
              "      <td>5</td>\n",
              "      <td>2.400000</td>\n",
              "    </tr>\n",
              "    <tr>\n",
              "      <th>73</th>\n",
              "      <td>Miami International Autodrome</td>\n",
              "      <td>3</td>\n",
              "      <td>2</td>\n",
              "      <td>1.500000</td>\n",
              "    </tr>\n",
              "    <tr>\n",
              "      <th>74</th>\n",
              "      <td>Autódromo Internacional do Algarve</td>\n",
              "      <td>2</td>\n",
              "      <td>2</td>\n",
              "      <td>1.000000</td>\n",
              "    </tr>\n",
              "    <tr>\n",
              "      <th>75</th>\n",
              "      <td>Losail International Circuit</td>\n",
              "      <td>2</td>\n",
              "      <td>2</td>\n",
              "      <td>1.000000</td>\n",
              "    </tr>\n",
              "  </tbody>\n",
              "</table>\n",
              "<p>76 rows × 4 columns</p>\n",
              "</div>"
            ],
            "text/plain": [
              "                                  name  dnf  races   dnf_rate\n",
              "58                           Fair Park   16      1  16.000000\n",
              "28              Detroit Street Circuit  105      7  15.000000\n",
              "59                      Donington Park   14      1  14.000000\n",
              "42              Phoenix street circuit   42      3  14.000000\n",
              "22             Adelaide Street Circuit  147     11  13.363636\n",
              "..                                 ...  ...    ...        ...\n",
              "43                  Yas Marina Circuit   40     15   2.666667\n",
              "61             Valencia Street Circuit   12      5   2.400000\n",
              "73       Miami International Autodrome    3      2   1.500000\n",
              "74  Autódromo Internacional do Algarve    2      2   1.000000\n",
              "75        Losail International Circuit    2      2   1.000000\n",
              "\n",
              "[76 rows x 4 columns]"
            ]
          },
          "execution_count": 41,
          "metadata": {},
          "output_type": "execute_result"
        }
      ],
      "source": [
        "num_dnfs"
      ]
    },
    {
      "cell_type": "code",
      "execution_count": 42,
      "metadata": {},
      "outputs": [],
      "source": [
        "num_dnfs.to_excel('ready_to_plot/num_dnfs_by_ckt.xlsx',index=False)"
      ]
    },
    {
      "cell_type": "code",
      "execution_count": 43,
      "metadata": {},
      "outputs": [
        {
          "data": {
            "text/plain": [
              "Index(['resultId', 'raceId', 'driverId', 'constructorId', 'number', 'grid',\n",
              "       'position', 'positionText', 'positionOrder', 'points', 'laps', 'time',\n",
              "       'milliseconds', 'fastestLap', 'rank', 'fastestLapTime',\n",
              "       'fastestLapSpeed', 'statusId', 'finish_status', 'circuitId', 'year',\n",
              "       'circuitRef', 'name', 'location', 'country', 'lat', 'lng', 'alt',\n",
              "       'url'],\n",
              "      dtype='object')"
            ]
          },
          "execution_count": 43,
          "metadata": {},
          "output_type": "execute_result"
        }
      ],
      "source": [
        "dnf_results_races_ckts.columns"
      ]
    },
    {
      "cell_type": "code",
      "execution_count": 44,
      "metadata": {},
      "outputs": [
        {
          "data": {
            "text/html": [
              "<div>\n",
              "<style scoped>\n",
              "    .dataframe tbody tr th:only-of-type {\n",
              "        vertical-align: middle;\n",
              "    }\n",
              "\n",
              "    .dataframe tbody tr th {\n",
              "        vertical-align: top;\n",
              "    }\n",
              "\n",
              "    .dataframe thead th {\n",
              "        text-align: right;\n",
              "    }\n",
              "</style>\n",
              "<table border=\"1\" class=\"dataframe\">\n",
              "  <thead>\n",
              "    <tr style=\"text-align: right;\">\n",
              "      <th></th>\n",
              "      <th>raceId</th>\n",
              "      <th>name</th>\n",
              "      <th>year</th>\n",
              "      <th>resultId</th>\n",
              "    </tr>\n",
              "  </thead>\n",
              "  <tbody>\n",
              "    <tr>\n",
              "      <th>563</th>\n",
              "      <td>1039</td>\n",
              "      <td>Autodromo Internazionale del Mugello</td>\n",
              "      <td>2020</td>\n",
              "      <td>8</td>\n",
              "    </tr>\n",
              "    <tr>\n",
              "      <th>602</th>\n",
              "      <td>992</td>\n",
              "      <td>Baku City Circuit</td>\n",
              "      <td>2018</td>\n",
              "      <td>7</td>\n",
              "    </tr>\n",
              "    <tr>\n",
              "      <th>634</th>\n",
              "      <td>1031</td>\n",
              "      <td>Red Bull Ring</td>\n",
              "      <td>2020</td>\n",
              "      <td>7</td>\n",
              "    </tr>\n",
              "    <tr>\n",
              "      <th>662</th>\n",
              "      <td>1083</td>\n",
              "      <td>Silverstone Circuit</td>\n",
              "      <td>2022</td>\n",
              "      <td>6</td>\n",
              "    </tr>\n",
              "    <tr>\n",
              "      <th>667</th>\n",
              "      <td>1091</td>\n",
              "      <td>Marina Bay Street Circuit</td>\n",
              "      <td>2022</td>\n",
              "      <td>6</td>\n",
              "    </tr>\n",
              "    <tr>\n",
              "      <th>674</th>\n",
              "      <td>998</td>\n",
              "      <td>Silverstone Circuit</td>\n",
              "      <td>2018</td>\n",
              "      <td>6</td>\n",
              "    </tr>\n",
              "    <tr>\n",
              "      <th>686</th>\n",
              "      <td>993</td>\n",
              "      <td>Circuit de Barcelona-Catalunya</td>\n",
              "      <td>2018</td>\n",
              "      <td>6</td>\n",
              "    </tr>\n",
              "    <tr>\n",
              "      <th>687</th>\n",
              "      <td>1020</td>\n",
              "      <td>Hockenheimring</td>\n",
              "      <td>2019</td>\n",
              "      <td>6</td>\n",
              "    </tr>\n",
              "    <tr>\n",
              "      <th>692</th>\n",
              "      <td>1062</td>\n",
              "      <td>Hungaroring</td>\n",
              "      <td>2021</td>\n",
              "      <td>6</td>\n",
              "    </tr>\n",
              "    <tr>\n",
              "      <th>733</th>\n",
              "      <td>1001</td>\n",
              "      <td>Circuit de Spa-Francorchamps</td>\n",
              "      <td>2018</td>\n",
              "      <td>5</td>\n",
              "    </tr>\n",
              "  </tbody>\n",
              "</table>\n",
              "</div>"
            ],
            "text/plain": [
              "     raceId                                  name  year  resultId\n",
              "563    1039  Autodromo Internazionale del Mugello  2020         8\n",
              "602     992                     Baku City Circuit  2018         7\n",
              "634    1031                         Red Bull Ring  2020         7\n",
              "662    1083                   Silverstone Circuit  2022         6\n",
              "667    1091             Marina Bay Street Circuit  2022         6\n",
              "674     998                   Silverstone Circuit  2018         6\n",
              "686     993        Circuit de Barcelona-Catalunya  2018         6\n",
              "687    1020                        Hockenheimring  2019         6\n",
              "692    1062                           Hungaroring  2021         6\n",
              "733    1001          Circuit de Spa-Francorchamps  2018         5"
            ]
          },
          "execution_count": 44,
          "metadata": {},
          "output_type": "execute_result"
        }
      ],
      "source": [
        "## Most dnfs in one race post halo (2018)\n",
        "dnf_results_races_ckts.groupby(['raceId','name','year']).count().sort_values(by='resultId',ascending=False)[['resultId']].reset_index().query(\"year>=2018\").head(10)\n"
      ]
    },
    {
      "cell_type": "code",
      "execution_count": 45,
      "metadata": {},
      "outputs": [
        {
          "data": {
            "text/html": [
              "<div>\n",
              "<style scoped>\n",
              "    .dataframe tbody tr th:only-of-type {\n",
              "        vertical-align: middle;\n",
              "    }\n",
              "\n",
              "    .dataframe tbody tr th {\n",
              "        vertical-align: top;\n",
              "    }\n",
              "\n",
              "    .dataframe thead th {\n",
              "        text-align: right;\n",
              "    }\n",
              "</style>\n",
              "<table border=\"1\" class=\"dataframe\">\n",
              "  <thead>\n",
              "    <tr style=\"text-align: right;\">\n",
              "      <th></th>\n",
              "      <th>raceId</th>\n",
              "      <th>name</th>\n",
              "      <th>year</th>\n",
              "      <th>resultId</th>\n",
              "    </tr>\n",
              "  </thead>\n",
              "  <tbody>\n",
              "    <tr>\n",
              "      <th>544</th>\n",
              "      <td>906</td>\n",
              "      <td>Circuit Gilles Villeneuve</td>\n",
              "      <td>2014</td>\n",
              "      <td>8</td>\n",
              "    </tr>\n",
              "    <tr>\n",
              "      <th>557</th>\n",
              "      <td>982</td>\n",
              "      <td>Marina Bay Street Circuit</td>\n",
              "      <td>2017</td>\n",
              "      <td>8</td>\n",
              "    </tr>\n",
              "    <tr>\n",
              "      <th>562</th>\n",
              "      <td>942</td>\n",
              "      <td>Circuit of the Americas</td>\n",
              "      <td>2015</td>\n",
              "      <td>8</td>\n",
              "    </tr>\n",
              "    <tr>\n",
              "      <th>592</th>\n",
              "      <td>969</td>\n",
              "      <td>Albert Park Grand Prix Circuit</td>\n",
              "      <td>2017</td>\n",
              "      <td>7</td>\n",
              "    </tr>\n",
              "    <tr>\n",
              "      <th>597</th>\n",
              "      <td>953</td>\n",
              "      <td>Circuit de Monaco</td>\n",
              "      <td>2016</td>\n",
              "      <td>7</td>\n",
              "    </tr>\n",
              "    <tr>\n",
              "      <th>600</th>\n",
              "      <td>900</td>\n",
              "      <td>Albert Park Grand Prix Circuit</td>\n",
              "      <td>2014</td>\n",
              "      <td>7</td>\n",
              "    </tr>\n",
              "    <tr>\n",
              "      <th>602</th>\n",
              "      <td>992</td>\n",
              "      <td>Baku City Circuit</td>\n",
              "      <td>2018</td>\n",
              "      <td>7</td>\n",
              "    </tr>\n",
              "    <tr>\n",
              "      <th>609</th>\n",
              "      <td>905</td>\n",
              "      <td>Circuit de Monaco</td>\n",
              "      <td>2014</td>\n",
              "      <td>7</td>\n",
              "    </tr>\n",
              "    <tr>\n",
              "      <th>659</th>\n",
              "      <td>971</td>\n",
              "      <td>Bahrain International Circuit</td>\n",
              "      <td>2017</td>\n",
              "      <td>6</td>\n",
              "    </tr>\n",
              "    <tr>\n",
              "      <th>669</th>\n",
              "      <td>976</td>\n",
              "      <td>Baku City Circuit</td>\n",
              "      <td>2017</td>\n",
              "      <td>6</td>\n",
              "    </tr>\n",
              "  </tbody>\n",
              "</table>\n",
              "</div>"
            ],
            "text/plain": [
              "     raceId                            name  year  resultId\n",
              "544     906       Circuit Gilles Villeneuve  2014         8\n",
              "557     982       Marina Bay Street Circuit  2017         8\n",
              "562     942         Circuit of the Americas  2015         8\n",
              "592     969  Albert Park Grand Prix Circuit  2017         7\n",
              "597     953               Circuit de Monaco  2016         7\n",
              "600     900  Albert Park Grand Prix Circuit  2014         7\n",
              "602     992               Baku City Circuit  2018         7\n",
              "609     905               Circuit de Monaco  2014         7\n",
              "659     971   Bahrain International Circuit  2017         6\n",
              "669     976               Baku City Circuit  2017         6"
            ]
          },
          "execution_count": 45,
          "metadata": {},
          "output_type": "execute_result"
        }
      ],
      "source": [
        "## Most dnfs in one race pre halo (2014-2018)\n",
        "dnf_results_races_ckts.groupby(['raceId','name','year']).count().sort_values(by='resultId',ascending=False)[['resultId']].reset_index().query(\"year<=2018 & year>=2014\").head(10)\n"
      ]
    },
    {
      "cell_type": "code",
      "execution_count": 46,
      "metadata": {},
      "outputs": [
        {
          "data": {
            "text/plain": [
              "Index(['resultId', 'raceId', 'driverId', 'constructorId', 'number', 'grid',\n",
              "       'position', 'positionText', 'positionOrder', 'points', 'laps', 'time',\n",
              "       'milliseconds', 'fastestLap', 'rank', 'fastestLapTime',\n",
              "       'fastestLapSpeed', 'statusId', 'finish_status'],\n",
              "      dtype='object')"
            ]
          },
          "execution_count": 46,
          "metadata": {},
          "output_type": "execute_result"
        }
      ],
      "source": [
        "results.columns"
      ]
    },
    {
      "cell_type": "code",
      "execution_count": 49,
      "metadata": {},
      "outputs": [
        {
          "data": {
            "text/plain": [
              "Index(['resultId', 'raceId', 'driverId', 'constructorId', 'number', 'grid',\n",
              "       'position', 'positionText', 'positionOrder', 'points', 'laps', 'time',\n",
              "       'milliseconds', 'fastestLap', 'rank', 'fastestLapTime',\n",
              "       'fastestLapSpeed', 'statusId', 'finish_status', 'circuitId', 'year',\n",
              "       'circuitRef', 'name', 'location', 'country', 'lat', 'lng', 'alt',\n",
              "       'url'],\n",
              "      dtype='object')"
            ]
          },
          "execution_count": 49,
          "metadata": {},
          "output_type": "execute_result"
        }
      ],
      "source": [
        "dnf_results_races_ckts.columns"
      ]
    },
    {
      "cell_type": "code",
      "execution_count": 53,
      "metadata": {},
      "outputs": [
        {
          "data": {
            "text/html": [
              "<div>\n",
              "<style scoped>\n",
              "    .dataframe tbody tr th:only-of-type {\n",
              "        vertical-align: middle;\n",
              "    }\n",
              "\n",
              "    .dataframe tbody tr th {\n",
              "        vertical-align: top;\n",
              "    }\n",
              "\n",
              "    .dataframe thead th {\n",
              "        text-align: right;\n",
              "    }\n",
              "</style>\n",
              "<table border=\"1\" class=\"dataframe\">\n",
              "  <thead>\n",
              "    <tr style=\"text-align: right;\">\n",
              "      <th></th>\n",
              "      <th>raceId</th>\n",
              "      <th>name</th>\n",
              "      <th>year</th>\n",
              "      <th>resultId</th>\n",
              "    </tr>\n",
              "  </thead>\n",
              "  <tbody>\n",
              "    <tr>\n",
              "      <th>0</th>\n",
              "      <td>474</td>\n",
              "      <td>Circuit Gilles Villeneuve</td>\n",
              "      <td>1982</td>\n",
              "      <td>1</td>\n",
              "    </tr>\n",
              "    <tr>\n",
              "      <th>1</th>\n",
              "      <td>480</td>\n",
              "      <td>Dijon-Prenois</td>\n",
              "      <td>1982</td>\n",
              "      <td>1</td>\n",
              "    </tr>\n",
              "    <tr>\n",
              "      <th>2</th>\n",
              "      <td>547</td>\n",
              "      <td>Jarama</td>\n",
              "      <td>1977</td>\n",
              "      <td>1</td>\n",
              "    </tr>\n",
              "    <tr>\n",
              "      <th>3</th>\n",
              "      <td>604</td>\n",
              "      <td>Watkins Glen</td>\n",
              "      <td>1974</td>\n",
              "      <td>1</td>\n",
              "    </tr>\n",
              "  </tbody>\n",
              "</table>\n",
              "</div>"
            ],
            "text/plain": [
              "   raceId                       name  year  resultId\n",
              "0     474  Circuit Gilles Villeneuve  1982         1\n",
              "1     480              Dijon-Prenois  1982         1\n",
              "2     547                     Jarama  1977         1\n",
              "3     604               Watkins Glen  1974         1"
            ]
          },
          "execution_count": 53,
          "metadata": {},
          "output_type": "execute_result"
        }
      ],
      "source": [
        "injury_accidents_status=[73,82,104]\n",
        "dnf_results_races_ckts.query('statusId in {}'.format(injury_accidents_status)).groupby(['raceId','name','year']).count().sort_values(by='resultId',ascending=False)[['resultId']].reset_index().head(10)"
      ]
    },
    {
      "cell_type": "code",
      "execution_count": null,
      "metadata": {},
      "outputs": [],
      "source": []
    }
  ],
  "metadata": {
    "colab": {
      "gpuType": "T4",
      "provenance": []
    },
    "gpuClass": "standard",
    "kernelspec": {
      "display_name": "Python 3.9.12 ('tf')",
      "language": "python",
      "name": "python3"
    },
    "language_info": {
      "codemirror_mode": {
        "name": "ipython",
        "version": 3
      },
      "file_extension": ".py",
      "mimetype": "text/x-python",
      "name": "python",
      "nbconvert_exporter": "python",
      "pygments_lexer": "ipython3",
      "version": "3.10.9"
    },
    "vscode": {
      "interpreter": {
        "hash": "5866270c437c155fa01e0319c15d121c48ec06be6dab2c69558e7ff75ddfc13d"
      }
    }
  },
  "nbformat": 4,
  "nbformat_minor": 0
}
